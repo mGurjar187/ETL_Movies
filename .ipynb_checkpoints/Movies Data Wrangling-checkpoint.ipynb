{
 "cells": [
  {
   "cell_type": "code",
   "execution_count": 380,
   "metadata": {},
   "outputs": [],
   "source": [
    "# Import dependencies\n",
    "import pandas as pd\n",
    "import numpy as np\n",
    "import json\n",
    "import re\n",
    "from sqlalchemy import create_engine\n",
    "from pprint import pprint\n",
    "\n",
    "import warnings\n",
    "warnings.filterwarnings(\"ignore\")"
   ]
  },
  {
   "cell_type": "code",
   "execution_count": 335,
   "metadata": {},
   "outputs": [],
   "source": [
    "# !pip install pymysql"
   ]
  },
  {
   "cell_type": "markdown",
   "metadata": {},
   "source": [
    "# 1. Extract"
   ]
  },
  {
   "cell_type": "code",
   "execution_count": 336,
   "metadata": {},
   "outputs": [
    {
     "data": {
      "text/html": [
       "<div>\n",
       "<style scoped>\n",
       "    .dataframe tbody tr th:only-of-type {\n",
       "        vertical-align: middle;\n",
       "    }\n",
       "\n",
       "    .dataframe tbody tr th {\n",
       "        vertical-align: top;\n",
       "    }\n",
       "\n",
       "    .dataframe thead th {\n",
       "        text-align: right;\n",
       "    }\n",
       "</style>\n",
       "<table border=\"1\" class=\"dataframe\">\n",
       "  <thead>\n",
       "    <tr style=\"text-align: right;\">\n",
       "      <th></th>\n",
       "      <th>userId</th>\n",
       "      <th>movieId</th>\n",
       "      <th>rating</th>\n",
       "      <th>timestamp</th>\n",
       "    </tr>\n",
       "  </thead>\n",
       "  <tbody>\n",
       "    <tr>\n",
       "      <th>0</th>\n",
       "      <td>1</td>\n",
       "      <td>31</td>\n",
       "      <td>2.5</td>\n",
       "      <td>1260759144</td>\n",
       "    </tr>\n",
       "    <tr>\n",
       "      <th>1</th>\n",
       "      <td>1</td>\n",
       "      <td>1029</td>\n",
       "      <td>3.0</td>\n",
       "      <td>1260759179</td>\n",
       "    </tr>\n",
       "    <tr>\n",
       "      <th>2</th>\n",
       "      <td>1</td>\n",
       "      <td>1061</td>\n",
       "      <td>3.0</td>\n",
       "      <td>1260759182</td>\n",
       "    </tr>\n",
       "    <tr>\n",
       "      <th>3</th>\n",
       "      <td>1</td>\n",
       "      <td>1129</td>\n",
       "      <td>2.0</td>\n",
       "      <td>1260759185</td>\n",
       "    </tr>\n",
       "    <tr>\n",
       "      <th>4</th>\n",
       "      <td>1</td>\n",
       "      <td>1172</td>\n",
       "      <td>4.0</td>\n",
       "      <td>1260759205</td>\n",
       "    </tr>\n",
       "  </tbody>\n",
       "</table>\n",
       "</div>"
      ],
      "text/plain": [
       "   userId  movieId  rating   timestamp\n",
       "0  1       31       2.5     1260759144\n",
       "1  1       1029     3.0     1260759179\n",
       "2  1       1061     3.0     1260759182\n",
       "3  1       1129     2.0     1260759185\n",
       "4  1       1172     4.0     1260759205"
      ]
     },
     "execution_count": 336,
     "metadata": {},
     "output_type": "execute_result"
    }
   ],
   "source": [
    "# Reading the movies_ratings csv file\n",
    "df_ratings = pd.read_csv(r'Resources/movies_ratings.csv')\n",
    "df_ratings.head()"
   ]
  },
  {
   "cell_type": "code",
   "execution_count": 337,
   "metadata": {},
   "outputs": [
    {
     "data": {
      "text/html": [
       "<div>\n",
       "<style scoped>\n",
       "    .dataframe tbody tr th:only-of-type {\n",
       "        vertical-align: middle;\n",
       "    }\n",
       "\n",
       "    .dataframe tbody tr th {\n",
       "        vertical-align: top;\n",
       "    }\n",
       "\n",
       "    .dataframe thead th {\n",
       "        text-align: right;\n",
       "    }\n",
       "</style>\n",
       "<table border=\"1\" class=\"dataframe\">\n",
       "  <thead>\n",
       "    <tr style=\"text-align: right;\">\n",
       "      <th></th>\n",
       "      <th>adult</th>\n",
       "      <th>belongs_to_collection</th>\n",
       "      <th>budget</th>\n",
       "      <th>genres</th>\n",
       "      <th>homepage</th>\n",
       "      <th>id</th>\n",
       "      <th>imdb_id</th>\n",
       "      <th>original_language</th>\n",
       "      <th>original_title</th>\n",
       "      <th>overview</th>\n",
       "      <th>...</th>\n",
       "      <th>release_date</th>\n",
       "      <th>revenue</th>\n",
       "      <th>runtime</th>\n",
       "      <th>spoken_languages</th>\n",
       "      <th>status</th>\n",
       "      <th>tagline</th>\n",
       "      <th>title</th>\n",
       "      <th>video</th>\n",
       "      <th>vote_average</th>\n",
       "      <th>vote_count</th>\n",
       "    </tr>\n",
       "  </thead>\n",
       "  <tbody>\n",
       "    <tr>\n",
       "      <th>2541</th>\n",
       "      <td>False</td>\n",
       "      <td>NaN</td>\n",
       "      <td>0</td>\n",
       "      <td>[{'id': 27, 'name': 'Horror'}, {'id': 878, 'name': 'Science Fiction'}, {'id': 53, 'name': 'Thriller'}]</td>\n",
       "      <td>NaN</td>\n",
       "      <td>9077</td>\n",
       "      <td>tt0048696</td>\n",
       "      <td>en</td>\n",
       "      <td>Tarantula</td>\n",
       "      <td>A spider escapes from an isolated desert laboratory experimenting in giantism and grows to tremendous size as it wreaks havoc on the local inhabitants.</td>\n",
       "      <td>...</td>\n",
       "      <td>1955-12-14</td>\n",
       "      <td>0.0</td>\n",
       "      <td>80.0</td>\n",
       "      <td>[{'iso_639_1': 'en', 'name': 'English'}]</td>\n",
       "      <td>Released</td>\n",
       "      <td>More terrifying than any horror known to man comes a creeping crawling monster whose towering fury no one can escape!</td>\n",
       "      <td>Tarantula</td>\n",
       "      <td>False</td>\n",
       "      <td>6.1</td>\n",
       "      <td>58.0</td>\n",
       "    </tr>\n",
       "    <tr>\n",
       "      <th>6702</th>\n",
       "      <td>False</td>\n",
       "      <td>NaN</td>\n",
       "      <td>0</td>\n",
       "      <td>[{'id': 18, 'name': 'Drama'}, {'id': 10749, 'name': 'Romance'}]</td>\n",
       "      <td>NaN</td>\n",
       "      <td>47866</td>\n",
       "      <td>tt0104321</td>\n",
       "      <td>en</td>\n",
       "      <td>Gas Food Lodging</td>\n",
       "      <td>In the boring desert of New Mexico, a single mother raises her two teenage daughters, Shade and Trudi, whose deepest desire is to leave the dead calm town. Shade is the type to escape in her extravagant fantasies while Trudi is so rebelious it could drive her away.</td>\n",
       "      <td>...</td>\n",
       "      <td>1992-07-10</td>\n",
       "      <td>1345236.0</td>\n",
       "      <td>101.0</td>\n",
       "      <td>[{'iso_639_1': 'es', 'name': 'Español'}, {'iso_639_1': 'en', 'name': 'English'}]</td>\n",
       "      <td>Released</td>\n",
       "      <td>When Shade's good, she's very good. But when Trudi's bad, she's better.</td>\n",
       "      <td>Gas Food Lodging</td>\n",
       "      <td>False</td>\n",
       "      <td>5.8</td>\n",
       "      <td>12.0</td>\n",
       "    </tr>\n",
       "  </tbody>\n",
       "</table>\n",
       "<p>2 rows × 24 columns</p>\n",
       "</div>"
      ],
      "text/plain": [
       "      adult belongs_to_collection budget  \\\n",
       "2541  False  NaN                   0       \n",
       "6702  False  NaN                   0       \n",
       "\n",
       "                                                                                                      genres  \\\n",
       "2541  [{'id': 27, 'name': 'Horror'}, {'id': 878, 'name': 'Science Fiction'}, {'id': 53, 'name': 'Thriller'}]   \n",
       "6702  [{'id': 18, 'name': 'Drama'}, {'id': 10749, 'name': 'Romance'}]                                          \n",
       "\n",
       "     homepage     id    imdb_id original_language    original_title  \\\n",
       "2541  NaN      9077   tt0048696  en                Tarantula          \n",
       "6702  NaN      47866  tt0104321  en                Gas Food Lodging   \n",
       "\n",
       "                                                                                                                                                                                                                                                                       overview  \\\n",
       "2541  A spider escapes from an isolated desert laboratory experimenting in giantism and grows to tremendous size as it wreaks havoc on the local inhabitants.                                                                                                                     \n",
       "6702  In the boring desert of New Mexico, a single mother raises her two teenage daughters, Shade and Trudi, whose deepest desire is to leave the dead calm town. Shade is the type to escape in her extravagant fantasies while Trudi is so rebelious it could drive her away.   \n",
       "\n",
       "      ... release_date    revenue runtime  \\\n",
       "2541  ...  1955-12-14   0.0        80.0     \n",
       "6702  ...  1992-07-10   1345236.0  101.0    \n",
       "\n",
       "                                                                      spoken_languages  \\\n",
       "2541  [{'iso_639_1': 'en', 'name': 'English'}]                                           \n",
       "6702  [{'iso_639_1': 'es', 'name': 'Español'}, {'iso_639_1': 'en', 'name': 'English'}]   \n",
       "\n",
       "        status  \\\n",
       "2541  Released   \n",
       "6702  Released   \n",
       "\n",
       "                                                                                                                    tagline  \\\n",
       "2541  More terrifying than any horror known to man comes a creeping crawling monster whose towering fury no one can escape!   \n",
       "6702  When Shade's good, she's very good. But when Trudi's bad, she's better.                                                 \n",
       "\n",
       "                 title  video vote_average vote_count  \n",
       "2541  Tarantula         False  6.1          58.0       \n",
       "6702  Gas Food Lodging  False  5.8          12.0       \n",
       "\n",
       "[2 rows x 24 columns]"
      ]
     },
     "execution_count": 337,
     "metadata": {},
     "output_type": "execute_result"
    }
   ],
   "source": [
    "# Reading the movies_metadata csv file\n",
    "df_movies = pd.read_csv(r'Resources\\movies_metadata.csv')\n",
    "df_movies.sample(2)"
   ]
  },
  {
   "cell_type": "code",
   "execution_count": 338,
   "metadata": {},
   "outputs": [
    {
     "data": {
      "text/plain": [
       "7311"
      ]
     },
     "execution_count": 338,
     "metadata": {},
     "output_type": "execute_result"
    }
   ],
   "source": [
    "# Reading the wikipedia-movies json file\n",
    "with open(r'Resources/wikipedia-movies.json',mode='r') as file:\n",
    "    movies_wiki_raw = json.load(file)\n",
    "len(movies_wiki_raw)"
   ]
  },
  {
   "cell_type": "markdown",
   "metadata": {},
   "source": [
    "# 2. Tranform"
   ]
  },
  {
   "cell_type": "code",
   "execution_count": 339,
   "metadata": {},
   "outputs": [
    {
     "data": {
      "text/plain": [
       "(100004, 4)"
      ]
     },
     "execution_count": 339,
     "metadata": {},
     "output_type": "execute_result"
    }
   ],
   "source": [
    "df_ratings.shape"
   ]
  },
  {
   "cell_type": "code",
   "execution_count": 340,
   "metadata": {},
   "outputs": [
    {
     "data": {
      "text/plain": [
       "userId       0\n",
       "movieId      0\n",
       "rating       0\n",
       "timestamp    0\n",
       "dtype: int64"
      ]
     },
     "execution_count": 340,
     "metadata": {},
     "output_type": "execute_result"
    }
   ],
   "source": [
    "df_ratings.isnull().sum()"
   ]
  },
  {
   "cell_type": "code",
   "execution_count": 341,
   "metadata": {},
   "outputs": [],
   "source": [
    "df_ratings['timestamp'] = pd.to_datetime(df_ratings['timestamp'], unit = 's')"
   ]
  },
  {
   "cell_type": "code",
   "execution_count": 342,
   "metadata": {},
   "outputs": [
    {
     "data": {
      "text/html": [
       "<div>\n",
       "<style scoped>\n",
       "    .dataframe tbody tr th:only-of-type {\n",
       "        vertical-align: middle;\n",
       "    }\n",
       "\n",
       "    .dataframe tbody tr th {\n",
       "        vertical-align: top;\n",
       "    }\n",
       "\n",
       "    .dataframe thead th {\n",
       "        text-align: right;\n",
       "    }\n",
       "</style>\n",
       "<table border=\"1\" class=\"dataframe\">\n",
       "  <thead>\n",
       "    <tr style=\"text-align: right;\">\n",
       "      <th></th>\n",
       "      <th>userId</th>\n",
       "      <th>movieId</th>\n",
       "      <th>rating</th>\n",
       "      <th>timestamp</th>\n",
       "    </tr>\n",
       "  </thead>\n",
       "  <tbody>\n",
       "    <tr>\n",
       "      <th>0</th>\n",
       "      <td>1</td>\n",
       "      <td>31</td>\n",
       "      <td>2.5</td>\n",
       "      <td>2009-12-14 02:52:24</td>\n",
       "    </tr>\n",
       "    <tr>\n",
       "      <th>1</th>\n",
       "      <td>1</td>\n",
       "      <td>1029</td>\n",
       "      <td>3.0</td>\n",
       "      <td>2009-12-14 02:52:59</td>\n",
       "    </tr>\n",
       "    <tr>\n",
       "      <th>2</th>\n",
       "      <td>1</td>\n",
       "      <td>1061</td>\n",
       "      <td>3.0</td>\n",
       "      <td>2009-12-14 02:53:02</td>\n",
       "    </tr>\n",
       "    <tr>\n",
       "      <th>3</th>\n",
       "      <td>1</td>\n",
       "      <td>1129</td>\n",
       "      <td>2.0</td>\n",
       "      <td>2009-12-14 02:53:05</td>\n",
       "    </tr>\n",
       "    <tr>\n",
       "      <th>4</th>\n",
       "      <td>1</td>\n",
       "      <td>1172</td>\n",
       "      <td>4.0</td>\n",
       "      <td>2009-12-14 02:53:25</td>\n",
       "    </tr>\n",
       "  </tbody>\n",
       "</table>\n",
       "</div>"
      ],
      "text/plain": [
       "   userId  movieId  rating           timestamp\n",
       "0  1       31       2.5    2009-12-14 02:52:24\n",
       "1  1       1029     3.0    2009-12-14 02:52:59\n",
       "2  1       1061     3.0    2009-12-14 02:53:02\n",
       "3  1       1129     2.0    2009-12-14 02:53:05\n",
       "4  1       1172     4.0    2009-12-14 02:53:25"
      ]
     },
     "execution_count": 342,
     "metadata": {},
     "output_type": "execute_result"
    }
   ],
   "source": [
    "df_ratings.head()"
   ]
  },
  {
   "cell_type": "code",
   "execution_count": 343,
   "metadata": {},
   "outputs": [
    {
     "data": {
      "text/html": [
       "<div>\n",
       "<style scoped>\n",
       "    .dataframe tbody tr th:only-of-type {\n",
       "        vertical-align: middle;\n",
       "    }\n",
       "\n",
       "    .dataframe tbody tr th {\n",
       "        vertical-align: top;\n",
       "    }\n",
       "\n",
       "    .dataframe thead th {\n",
       "        text-align: right;\n",
       "    }\n",
       "</style>\n",
       "<table border=\"1\" class=\"dataframe\">\n",
       "  <thead>\n",
       "    <tr style=\"text-align: right;\">\n",
       "      <th></th>\n",
       "      <th>adult</th>\n",
       "      <th>belongs_to_collection</th>\n",
       "      <th>budget</th>\n",
       "      <th>genres</th>\n",
       "      <th>homepage</th>\n",
       "      <th>id</th>\n",
       "      <th>imdb_id</th>\n",
       "      <th>original_language</th>\n",
       "      <th>original_title</th>\n",
       "      <th>overview</th>\n",
       "      <th>...</th>\n",
       "      <th>release_date</th>\n",
       "      <th>revenue</th>\n",
       "      <th>runtime</th>\n",
       "      <th>spoken_languages</th>\n",
       "      <th>status</th>\n",
       "      <th>tagline</th>\n",
       "      <th>title</th>\n",
       "      <th>video</th>\n",
       "      <th>vote_average</th>\n",
       "      <th>vote_count</th>\n",
       "    </tr>\n",
       "  </thead>\n",
       "  <tbody>\n",
       "    <tr>\n",
       "      <th>37988</th>\n",
       "      <td>False</td>\n",
       "      <td>NaN</td>\n",
       "      <td>0</td>\n",
       "      <td>[{'id': 35, 'name': 'Comedy'}]</td>\n",
       "      <td>NaN</td>\n",
       "      <td>49381</td>\n",
       "      <td>tt1794821</td>\n",
       "      <td>en</td>\n",
       "      <td>Jimmy Carr: Making People Laugh</td>\n",
       "      <td>Jimmy Carr is the hardest working comedian in Britain. He has now played to over one million people on tour and sold over a million DVDs. He returns with the release of his most outrageous stand up set to date, Making People Laugh, featuring over two hours of material that’s too rude for TV. The new DVD shows Jimmy at his very best and contains over 250 jokes. Here’s a small selection: “The first guy who persuaded a blind person they needed sunglasses, he must have been a hell of a salesman.” “Liverpool is the only city in Great Britain where JD Sports, has an evening wear department.” “A great way to warm up pensioners in winter.. is cremation.” “My girlfriend recently had a phantom pregnancy. And now we have a little baby ghost.”</td>\n",
       "      <td>...</td>\n",
       "      <td>2010-11-08</td>\n",
       "      <td>0.0</td>\n",
       "      <td>113.0</td>\n",
       "      <td>[]</td>\n",
       "      <td>Released</td>\n",
       "      <td>NaN</td>\n",
       "      <td>Jimmy Carr: Making People Laugh</td>\n",
       "      <td>False</td>\n",
       "      <td>7.1</td>\n",
       "      <td>9.0</td>\n",
       "    </tr>\n",
       "    <tr>\n",
       "      <th>14871</th>\n",
       "      <td>False</td>\n",
       "      <td>NaN</td>\n",
       "      <td>0</td>\n",
       "      <td>[{'id': 35, 'name': 'Comedy'}]</td>\n",
       "      <td>NaN</td>\n",
       "      <td>19962</td>\n",
       "      <td>tt0282744</td>\n",
       "      <td>en</td>\n",
       "      <td>Mike Bassett: England Manager</td>\n",
       "      <td>Mike Bassett: England Manager is an hilarious British Comedy that stars Ricky Thomlinson. Featuring Cameos from Barry Venison, Gabby Yorath, Atomic Kitten and Pele.When the England manager has a heart attack, footballs' top brass turn to Mike Bassett (basically no one else wanted the job). England lose Mike's first two games in charge. His team struggles to a goal-less draw in the final qualifying match but, thanks to a fluke result elsewhere, England qualify for the finals in Brazil.In South America things go from bad to worse. Pressure is mounting for Mike. An embarrassing drunken performance caught by a new photographer seals his fate as the most unpopular Englishman ever.However, Mike makes an impassioned plea for the country to get behind him - fans, press, players.... even his wife. Can Mike turn the tide and bring football home ? ..</td>\n",
       "      <td>...</td>\n",
       "      <td>2001-09-28</td>\n",
       "      <td>0.0</td>\n",
       "      <td>89.0</td>\n",
       "      <td>[{'iso_639_1': 'en', 'name': 'English'}, {'iso_639_1': 'pt', 'name': 'Português'}]</td>\n",
       "      <td>Released</td>\n",
       "      <td>NaN</td>\n",
       "      <td>Mike Bassett: England Manager</td>\n",
       "      <td>False</td>\n",
       "      <td>7.2</td>\n",
       "      <td>15.0</td>\n",
       "    </tr>\n",
       "  </tbody>\n",
       "</table>\n",
       "<p>2 rows × 24 columns</p>\n",
       "</div>"
      ],
      "text/plain": [
       "       adult belongs_to_collection budget                          genres  \\\n",
       "37988  False  NaN                   0      [{'id': 35, 'name': 'Comedy'}]   \n",
       "14871  False  NaN                   0      [{'id': 35, 'name': 'Comedy'}]   \n",
       "\n",
       "      homepage     id    imdb_id original_language  \\\n",
       "37988  NaN      49381  tt1794821  en                 \n",
       "14871  NaN      19962  tt0282744  en                 \n",
       "\n",
       "                        original_title  \\\n",
       "37988  Jimmy Carr: Making People Laugh   \n",
       "14871  Mike Bassett: England Manager     \n",
       "\n",
       "                                                                                                                                                                                                                                                                                                                                                                                                                                                                                                                                                                                                                                                                                                                                                                                                                                                                                  overview  \\\n",
       "37988  Jimmy Carr is the hardest working comedian in Britain. He has now played to over one million people on tour and sold over a million DVDs. He returns with the release of his most outrageous stand up set to date, Making People Laugh, featuring over two hours of material that’s too rude for TV. The new DVD shows Jimmy at his very best and contains over 250 jokes. Here’s a small selection: “The first guy who persuaded a blind person they needed sunglasses, he must have been a hell of a salesman.” “Liverpool is the only city in Great Britain where JD Sports, has an evening wear department.” “A great way to warm up pensioners in winter.. is cremation.” “My girlfriend recently had a phantom pregnancy. And now we have a little baby ghost.”                                                                                                                 \n",
       "14871  Mike Bassett: England Manager is an hilarious British Comedy that stars Ricky Thomlinson. Featuring Cameos from Barry Venison, Gabby Yorath, Atomic Kitten and Pele.When the England manager has a heart attack, footballs' top brass turn to Mike Bassett (basically no one else wanted the job). England lose Mike's first two games in charge. His team struggles to a goal-less draw in the final qualifying match but, thanks to a fluke result elsewhere, England qualify for the finals in Brazil.In South America things go from bad to worse. Pressure is mounting for Mike. An embarrassing drunken performance caught by a new photographer seals his fate as the most unpopular Englishman ever.However, Mike makes an impassioned plea for the country to get behind him - fans, press, players.... even his wife. Can Mike turn the tide and bring football home ? ..   \n",
       "\n",
       "       ... release_date revenue runtime  \\\n",
       "37988  ...  2010-11-08   0.0     113.0    \n",
       "14871  ...  2001-09-28   0.0     89.0     \n",
       "\n",
       "                                                                         spoken_languages  \\\n",
       "37988  []                                                                                   \n",
       "14871  [{'iso_639_1': 'en', 'name': 'English'}, {'iso_639_1': 'pt', 'name': 'Português'}]   \n",
       "\n",
       "         status  tagline                            title  video vote_average  \\\n",
       "37988  Released  NaN      Jimmy Carr: Making People Laugh  False  7.1           \n",
       "14871  Released  NaN      Mike Bassett: England Manager    False  7.2           \n",
       "\n",
       "      vote_count  \n",
       "37988  9.0        \n",
       "14871  15.0       \n",
       "\n",
       "[2 rows x 24 columns]"
      ]
     },
     "execution_count": 343,
     "metadata": {},
     "output_type": "execute_result"
    }
   ],
   "source": [
    "df_movies.sample(2)"
   ]
  },
  {
   "cell_type": "code",
   "execution_count": 344,
   "metadata": {},
   "outputs": [
    {
     "data": {
      "text/plain": [
       "Index(['adult', 'belongs_to_collection', 'budget', 'genres', 'homepage', 'id',\n",
       "       'imdb_id', 'original_language', 'original_title', 'overview',\n",
       "       'popularity', 'poster_path', 'production_companies',\n",
       "       'production_countries', 'release_date', 'revenue', 'runtime',\n",
       "       'spoken_languages', 'status', 'tagline', 'title', 'video',\n",
       "       'vote_average', 'vote_count'],\n",
       "      dtype='object')"
      ]
     },
     "execution_count": 344,
     "metadata": {},
     "output_type": "execute_result"
    }
   ],
   "source": [
    "df_movies.columns"
   ]
  },
  {
   "cell_type": "code",
   "execution_count": 345,
   "metadata": {},
   "outputs": [
    {
     "data": {
      "text/plain": [
       "(45466, 24)"
      ]
     },
     "execution_count": 345,
     "metadata": {},
     "output_type": "execute_result"
    }
   ],
   "source": [
    "df_movies.shape"
   ]
  },
  {
   "cell_type": "code",
   "execution_count": 346,
   "metadata": {},
   "outputs": [
    {
     "data": {
      "text/html": [
       "<div>\n",
       "<style scoped>\n",
       "    .dataframe tbody tr th:only-of-type {\n",
       "        vertical-align: middle;\n",
       "    }\n",
       "\n",
       "    .dataframe tbody tr th {\n",
       "        vertical-align: top;\n",
       "    }\n",
       "\n",
       "    .dataframe thead th {\n",
       "        text-align: right;\n",
       "    }\n",
       "</style>\n",
       "<table border=\"1\" class=\"dataframe\">\n",
       "  <thead>\n",
       "    <tr style=\"text-align: right;\">\n",
       "      <th></th>\n",
       "      <th>Total</th>\n",
       "      <th>Percent</th>\n",
       "    </tr>\n",
       "  </thead>\n",
       "  <tbody>\n",
       "    <tr>\n",
       "      <th>adult</th>\n",
       "      <td>0</td>\n",
       "      <td>0.000000</td>\n",
       "    </tr>\n",
       "    <tr>\n",
       "      <th>belongs_to_collection</th>\n",
       "      <td>40972</td>\n",
       "      <td>90.115691</td>\n",
       "    </tr>\n",
       "    <tr>\n",
       "      <th>budget</th>\n",
       "      <td>0</td>\n",
       "      <td>0.000000</td>\n",
       "    </tr>\n",
       "    <tr>\n",
       "      <th>genres</th>\n",
       "      <td>0</td>\n",
       "      <td>0.000000</td>\n",
       "    </tr>\n",
       "    <tr>\n",
       "      <th>homepage</th>\n",
       "      <td>37684</td>\n",
       "      <td>82.883913</td>\n",
       "    </tr>\n",
       "    <tr>\n",
       "      <th>id</th>\n",
       "      <td>0</td>\n",
       "      <td>0.000000</td>\n",
       "    </tr>\n",
       "    <tr>\n",
       "      <th>imdb_id</th>\n",
       "      <td>17</td>\n",
       "      <td>0.037391</td>\n",
       "    </tr>\n",
       "    <tr>\n",
       "      <th>original_language</th>\n",
       "      <td>11</td>\n",
       "      <td>0.024194</td>\n",
       "    </tr>\n",
       "    <tr>\n",
       "      <th>original_title</th>\n",
       "      <td>0</td>\n",
       "      <td>0.000000</td>\n",
       "    </tr>\n",
       "    <tr>\n",
       "      <th>overview</th>\n",
       "      <td>954</td>\n",
       "      <td>2.098271</td>\n",
       "    </tr>\n",
       "    <tr>\n",
       "      <th>popularity</th>\n",
       "      <td>5</td>\n",
       "      <td>0.010997</td>\n",
       "    </tr>\n",
       "    <tr>\n",
       "      <th>poster_path</th>\n",
       "      <td>386</td>\n",
       "      <td>0.848986</td>\n",
       "    </tr>\n",
       "    <tr>\n",
       "      <th>production_companies</th>\n",
       "      <td>3</td>\n",
       "      <td>0.006598</td>\n",
       "    </tr>\n",
       "    <tr>\n",
       "      <th>production_countries</th>\n",
       "      <td>3</td>\n",
       "      <td>0.006598</td>\n",
       "    </tr>\n",
       "    <tr>\n",
       "      <th>release_date</th>\n",
       "      <td>87</td>\n",
       "      <td>0.191352</td>\n",
       "    </tr>\n",
       "    <tr>\n",
       "      <th>revenue</th>\n",
       "      <td>6</td>\n",
       "      <td>0.013197</td>\n",
       "    </tr>\n",
       "    <tr>\n",
       "      <th>runtime</th>\n",
       "      <td>263</td>\n",
       "      <td>0.578454</td>\n",
       "    </tr>\n",
       "    <tr>\n",
       "      <th>spoken_languages</th>\n",
       "      <td>6</td>\n",
       "      <td>0.013197</td>\n",
       "    </tr>\n",
       "    <tr>\n",
       "      <th>status</th>\n",
       "      <td>87</td>\n",
       "      <td>0.191352</td>\n",
       "    </tr>\n",
       "    <tr>\n",
       "      <th>tagline</th>\n",
       "      <td>25054</td>\n",
       "      <td>55.104914</td>\n",
       "    </tr>\n",
       "    <tr>\n",
       "      <th>title</th>\n",
       "      <td>6</td>\n",
       "      <td>0.013197</td>\n",
       "    </tr>\n",
       "    <tr>\n",
       "      <th>video</th>\n",
       "      <td>6</td>\n",
       "      <td>0.013197</td>\n",
       "    </tr>\n",
       "    <tr>\n",
       "      <th>vote_average</th>\n",
       "      <td>6</td>\n",
       "      <td>0.013197</td>\n",
       "    </tr>\n",
       "    <tr>\n",
       "      <th>vote_count</th>\n",
       "      <td>6</td>\n",
       "      <td>0.013197</td>\n",
       "    </tr>\n",
       "  </tbody>\n",
       "</table>\n",
       "</div>"
      ],
      "text/plain": [
       "                       Total    Percent\n",
       "adult                  0      0.000000 \n",
       "belongs_to_collection  40972  90.115691\n",
       "budget                 0      0.000000 \n",
       "genres                 0      0.000000 \n",
       "homepage               37684  82.883913\n",
       "id                     0      0.000000 \n",
       "imdb_id                17     0.037391 \n",
       "original_language      11     0.024194 \n",
       "original_title         0      0.000000 \n",
       "overview               954    2.098271 \n",
       "popularity             5      0.010997 \n",
       "poster_path            386    0.848986 \n",
       "production_companies   3      0.006598 \n",
       "production_countries   3      0.006598 \n",
       "release_date           87     0.191352 \n",
       "revenue                6      0.013197 \n",
       "runtime                263    0.578454 \n",
       "spoken_languages       6      0.013197 \n",
       "status                 87     0.191352 \n",
       "tagline                25054  55.104914\n",
       "title                  6      0.013197 \n",
       "video                  6      0.013197 \n",
       "vote_average           6      0.013197 \n",
       "vote_count             6      0.013197 "
      ]
     },
     "execution_count": 346,
     "metadata": {},
     "output_type": "execute_result"
    }
   ],
   "source": [
    "# Checking null values percentage\n",
    "percent = df_movies.isnull().sum()*100/len(df_movies)\n",
    "total = df_movies.isnull().sum()\n",
    "movies_null = pd.DataFrame({'Total':total, 'Percent':percent})\n",
    "movies_null"
   ]
  },
  {
   "cell_type": "code",
   "execution_count": 347,
   "metadata": {},
   "outputs": [
    {
     "data": {
      "text/plain": [
       "Index(['adult', 'budget', 'genres', 'id', 'imdb_id', 'original_language',\n",
       "       'original_title', 'overview', 'popularity', 'poster_path',\n",
       "       'production_companies', 'production_countries', 'release_date',\n",
       "       'revenue', 'runtime', 'spoken_languages', 'status', 'title', 'video',\n",
       "       'vote_average', 'vote_count'],\n",
       "      dtype='object')"
      ]
     },
     "execution_count": 347,
     "metadata": {},
     "output_type": "execute_result"
    }
   ],
   "source": [
    "# Keeping columns with null values less than 10% only\n",
    "drop_list = movies_null[movies_null['Percent']>10].index.tolist()\n",
    "df_movies.drop(drop_list, axis = 1, inplace = True)\n",
    "df_movies.columns"
   ]
  },
  {
   "cell_type": "code",
   "execution_count": 348,
   "metadata": {},
   "outputs": [
    {
     "data": {
      "text/plain": [
       "adult                   object \n",
       "budget                  object \n",
       "genres                  object \n",
       "id                      object \n",
       "imdb_id                 object \n",
       "original_language       object \n",
       "original_title          object \n",
       "overview                object \n",
       "popularity              object \n",
       "poster_path             object \n",
       "production_companies    object \n",
       "production_countries    object \n",
       "release_date            object \n",
       "revenue                 float64\n",
       "runtime                 float64\n",
       "spoken_languages        object \n",
       "status                  object \n",
       "title                   object \n",
       "video                   object \n",
       "vote_average            float64\n",
       "vote_count              float64\n",
       "dtype: object"
      ]
     },
     "execution_count": 348,
     "metadata": {},
     "output_type": "execute_result"
    }
   ],
   "source": [
    "df_movies.dtypes"
   ]
  },
  {
   "cell_type": "code",
   "execution_count": 349,
   "metadata": {},
   "outputs": [
    {
     "data": {
      "text/plain": [
       "False                                                                                                                             45454\n",
       "True                                                                                                                              9    \n",
       " - Written by Ørnås                                                                                                               1    \n",
       " Rune Balot goes to a casino connected to the October corporation to try to wrap up her case once and for all.                    1    \n",
       " Avalanche Sharks tells the story of a bikini contest that turns into a horrifying affair when it is hit by a shark avalanche.    1    \n",
       "Name: adult, dtype: int64"
      ]
     },
     "execution_count": 349,
     "metadata": {},
     "output_type": "execute_result"
    }
   ],
   "source": [
    "df_movies.adult.value_counts()"
   ]
  },
  {
   "cell_type": "code",
   "execution_count": 350,
   "metadata": {},
   "outputs": [],
   "source": [
    "# Keeping rows where adult column is false and dropping adult column\n",
    "df_movies = df_movies[df_movies.adult == 'False'].drop('adult', axis = 'columns')"
   ]
  },
  {
   "cell_type": "code",
   "execution_count": 351,
   "metadata": {},
   "outputs": [
    {
     "data": {
      "text/plain": [
       "False    45358\n",
       "True     93   \n",
       "Name: video, dtype: int64"
      ]
     },
     "execution_count": 351,
     "metadata": {},
     "output_type": "execute_result"
    }
   ],
   "source": [
    "df_movies.video.value_counts()"
   ]
  },
  {
   "cell_type": "code",
   "execution_count": 352,
   "metadata": {},
   "outputs": [
    {
     "data": {
      "text/plain": [
       "False    45454\n",
       "Name: video, dtype: int64"
      ]
     },
     "execution_count": 352,
     "metadata": {},
     "output_type": "execute_result"
    }
   ],
   "source": [
    "# Keeping rows with video is false\n",
    "df_movies.video = df_movies.video == 'True'\n",
    "df_movies.video.value_counts()"
   ]
  },
  {
   "cell_type": "code",
   "execution_count": 353,
   "metadata": {},
   "outputs": [],
   "source": [
    "# Converting columns to numeric types\n",
    "df_movies.budget = df_movies.budget.astype(int)\n",
    "df_movies.id = pd.to_numeric(df_movies.id, errors = 'raise')\n",
    "df_movies.popularity = pd.to_numeric(df_movies.popularity, errors = 'raise')"
   ]
  },
  {
   "cell_type": "code",
   "execution_count": 354,
   "metadata": {},
   "outputs": [],
   "source": [
    "# Converting column to datetime datatype\n",
    "df_movies['release_date'] = pd.to_datetime(df_movies['release_date'])"
   ]
  },
  {
   "cell_type": "code",
   "execution_count": 355,
   "metadata": {},
   "outputs": [
    {
     "name": "stdout",
     "output_type": "stream",
     "text": [
      "<class 'pandas.core.frame.DataFrame'>\n",
      "Int64Index: 45454 entries, 0 to 45465\n",
      "Data columns (total 20 columns):\n",
      " #   Column                Non-Null Count  Dtype         \n",
      "---  ------                --------------  -----         \n",
      " 0   budget                45454 non-null  int32         \n",
      " 1   genres                45454 non-null  object        \n",
      " 2   id                    45454 non-null  int64         \n",
      " 3   imdb_id               45437 non-null  object        \n",
      " 4   original_language     45443 non-null  object        \n",
      " 5   original_title        45454 non-null  object        \n",
      " 6   overview              44500 non-null  object        \n",
      " 7   popularity            45451 non-null  float64       \n",
      " 8   poster_path           45068 non-null  object        \n",
      " 9   production_companies  45451 non-null  object        \n",
      " 10  production_countries  45451 non-null  object        \n",
      " 11  release_date          45368 non-null  datetime64[ns]\n",
      " 12  revenue               45451 non-null  float64       \n",
      " 13  runtime               45194 non-null  float64       \n",
      " 14  spoken_languages      45451 non-null  object        \n",
      " 15  status                45370 non-null  object        \n",
      " 16  title                 45451 non-null  object        \n",
      " 17  video                 45454 non-null  bool          \n",
      " 18  vote_average          45451 non-null  float64       \n",
      " 19  vote_count            45451 non-null  float64       \n",
      "dtypes: bool(1), datetime64[ns](1), float64(5), int32(1), int64(1), object(11)\n",
      "memory usage: 6.8+ MB\n"
     ]
    }
   ],
   "source": [
    "df_movies.info()"
   ]
  },
  {
   "cell_type": "code",
   "execution_count": 356,
   "metadata": {},
   "outputs": [
    {
     "data": {
      "text/plain": [
       "{'url': 'https://en.wikipedia.org/wiki/The_Adventures_of_Ford_Fairlane',\n",
       " 'year': 1990,\n",
       " 'imdb_link': 'https://www.imdb.com/title/tt0098987/',\n",
       " 'title': 'The Adventures of Ford Fairlane',\n",
       " 'Directed by': 'Renny Harlin',\n",
       " 'Produced by': ['Steve Perry', 'Joel Silver'],\n",
       " 'Screenplay by': ['David Arnott', 'James Cappe', 'Daniel Waters'],\n",
       " 'Story by': ['David Arnott', 'James Cappe'],\n",
       " 'Based on': ['Characters', 'by Rex Weiner'],\n",
       " 'Starring': ['Andrew Dice Clay',\n",
       "  'Wayne Newton',\n",
       "  'Priscilla Presley',\n",
       "  'Lauren Holly',\n",
       "  'Morris Day',\n",
       "  'Robert Englund',\n",
       "  \"Ed O'Neill\"],\n",
       " 'Narrated by': 'Andrew \"Dice\" Clay',\n",
       " 'Music by': ['Cliff Eidelman', 'Yello'],\n",
       " 'Cinematography': 'Oliver Wood',\n",
       " 'Edited by': 'Michael Tronick',\n",
       " 'Productioncompany ': 'Silver Pictures',\n",
       " 'Distributed by': '20th Century Fox',\n",
       " 'Release date': ['July 11, 1990', '(', '1990-07-11', ')'],\n",
       " 'Running time': '102 minutes',\n",
       " 'Country': 'United States',\n",
       " 'Language': 'English',\n",
       " 'Budget': '$20 million',\n",
       " 'Box office': '$21.4 million'}"
      ]
     },
     "execution_count": 356,
     "metadata": {},
     "output_type": "execute_result"
    }
   ],
   "source": [
    "movies_wiki_raw[0]"
   ]
  },
  {
   "cell_type": "code",
   "execution_count": 357,
   "metadata": {},
   "outputs": [],
   "source": [
    "\n",
    "def clean_movie(movie):\n",
    "    \"\"\"This function will take the each movie will combine alternate titles and change column names.\"\"\"\n",
    "    movie = dict(movie)\n",
    "    alt_titles = {}\n",
    "#     Combine alternate titles into one list alt_titles    \n",
    "    for key in ['Also known as','Arabic','Cantonese','Chinese','French',\n",
    "                    'Hangul','Hebrew','Hepburn','Japanese','Literally',\n",
    "                    'Mandarin','McCune-Reischauer','Original title','Polish',\n",
    "                    'Revised Romanization','Romanized','Russian',\n",
    "                    'Simplified','Traditional','Yiddish']:\n",
    "        if key in movie:\n",
    "            alt_titles[key] = movie[key]\n",
    "            movie.pop(key)\n",
    "    if len(alt_titles) > 0:\n",
    "        movie['alt_titles'] = alt_titles\n",
    "\n",
    "    def change_column_name(old_name, new_name):\n",
    "        \"\"\"This function will replace the values of old name in new name and pop the old name from list\"\"\"\n",
    "        if old_name in movie:\n",
    "            movie[new_name] = movie.pop(old_name)\n",
    "\n",
    "    change_column_name('Adaptation by', 'Writer(s)')\n",
    "    change_column_name('Country of origin', 'Country')\n",
    "    change_column_name('Directed by', 'Director')\n",
    "    change_column_name('Distributed by', 'Distributor')\n",
    "    change_column_name('Edited by', 'Editor(s)')\n",
    "    change_column_name('Length', 'Running time')\n",
    "    change_column_name('Original release', 'Release date')\n",
    "    change_column_name('Music by', 'Composer(s)')\n",
    "    change_column_name('Produced by', 'Producer(s)')\n",
    "    change_column_name('Producer', 'Producer(s)')\n",
    "    change_column_name('Productioncompanies ', 'Production company(s)')\n",
    "    change_column_name('Productioncompany ', 'Production company(s)')\n",
    "    change_column_name('Released', 'Release Date')\n",
    "    change_column_name('Release Date', 'Release date')\n",
    "    change_column_name('Screen story by', 'Writer(s)')\n",
    "    change_column_name('Screenplay by', 'Writer(s)')\n",
    "    change_column_name('Story by', 'Writer(s)')\n",
    "    change_column_name('Theme music composer', 'Composer(s)')\n",
    "    change_column_name('Written by', 'Writer(s)')\n",
    "\n",
    "    return movie"
   ]
  },
  {
   "cell_type": "code",
   "execution_count": 358,
   "metadata": {},
   "outputs": [],
   "source": [
    "\n",
    "def clean_movies_json(movies_wiki_json):\n",
    "    # Using list comprehension to filter out Tv shows from Movies\n",
    "    movies_wiki = [movie for movie in movies_wiki_raw\n",
    "                   if ('Director' in movie or 'Directed by') in movie \n",
    "                   and 'imdb_link' in movie   \n",
    "                   and 'No. of episodes' not in movie]\n",
    "    \n",
    "    # Using a list comprehension to clean each movie with function clean_movie\n",
    "    clean_movies = [clean_movie(movie) for movie in movies_wiki]\n",
    "    \n",
    "    movies_wiki_df = pd.DataFrame(clean_movies)\n",
    "    \n",
    "    # Using regexp to extract id from link and drop duplicate rows from id\n",
    "    movies_wiki_df['imdb_id'] = movies_wiki_df['imdb_link'].str.extract(r'(tt\\d{7})')\n",
    "    movies_wiki_df.drop_duplicates('imdb_id', inplace = True)\n",
    "    \n",
    "    # Using list comprehension to keep only columns with null values less than 10%\n",
    "    wiki_columns_keeping = [column for column in movies_wiki_df.columns \n",
    "                            if movies_wiki_df[column].isnull().sum() < len(movies_wiki_df) * 0.9]\n",
    "    movies_wiki_df = movies_wiki_df[wiki_columns_keeping]\n",
    "    \n",
    "    box_office = movies_wiki_df['Box office'].dropna()\n",
    "    \n",
    "    # Convert box_office to string values using lambda function\n",
    "    box_office = box_office.apply(lambda x: ' '.join(x) if type(x) ==  list else x)\n",
    "    \n",
    "    # Using regular expressions to match two types of patterns in box office data\n",
    "    type_one = r'\\$\\d+\\.?\\d*\\s*[mb]illion'\n",
    "    type_two = r'\\$\\d{1,3}(?:,\\d{3})+'\n",
    "    \n",
    "    def parse_dollars(s):\n",
    "        \"\"\" This function will parse the box_office column using regular expressions.\"\"\"\n",
    "        if type(s) != str:\n",
    "            return np.nan\n",
    "        # Matches only the input of type $###.# million\n",
    "        if re.match(r'\\$\\s*\\d+\\.?\\d*\\s*milli?on', s, flags=re.IGNORECASE):\n",
    "            s = re.sub('\\$|\\s|[a-zA-Z]', '', s)  # Removes the $ sign and ' million'\n",
    "            value = float(s) * 10 ** 6  # Convert string to float and multiply by a million\n",
    "            return value\n",
    "        # Matches only the input of type $###.# billion\n",
    "        elif re.match(r'\\$\\s*\\d+\\.?\\d*\\s*billi?on', s, flags=re.IGNORECASE):\n",
    "            s = re.sub('\\$|\\s|[a-zA-Z]', '', s)  # Removes the $ sign and ' billion'\n",
    "            value = float(s) * 10 ** 9  # Convert string to float and multiply by a billion\n",
    "            return value\n",
    "        # Matches only the input of type $###.# billion\n",
    "        elif re.match(r'\\$\\s*\\d{1,3}(?:[,\\.]\\d{3})+(?!\\s[mb]illion)', s, flags=re.IGNORECASE):\n",
    "            s = re.sub('\\$|,', '', s)  # Removes $ dollar sign and commas\n",
    "            value = float(s)  # Convert string to float\n",
    "            return value\n",
    "        else:\n",
    "            return np.nan\n",
    "    # Cleaning the box_office column using the parse_dollar function\n",
    "    movies_wiki_df['box_office'] = box_office.str.extract(f'({type_one}|{type_two})', flags=re.IGNORECASE)[0].apply(parse_dollars)\n",
    "    movies_wiki_df.drop(\"Box office\", axis=1, inplace = True)\n",
    "    \n",
    "    # Cleaning the release_date column using regular expressions\n",
    "    release_date = movies_wiki_df['Release date'].dropna()\n",
    "    release_date = release_date.apply(lambda x: ' '.join(x) if type(x) == list else x)\n",
    "    date_type_one = r'(?:January|February|March|April|May|June|July|August|September|October|November|December)\\s[123]\\d,\\s\\d{4}'\n",
    "    date_type_two = r'\\d{4}.[01]\\d.[123]\\d'\n",
    "    date_type_three = r'(?:January|February|March|April|May|June|July|August|September|October|November|December)\\s\\d{4}'\n",
    "    date_type_four = r'\\d{4}'\n",
    "    movies_wiki_df['release_date'] = pd.to_datetime(release_date.str.extract(f'({date_type_one}|{date_type_two}|{date_type_three}|{date_type_four})')[0], infer_datetime_format=True)\n",
    "    movies_wiki_df.drop('Release date', axis=1, inplace= True)\n",
    "    \n",
    "    # Cleaning the budget column using regular expressions and parse_dollars funtion with patterns used in box_office cleaning\n",
    "    budget = movies_wiki_df['Budget'].dropna()\n",
    "    budget = budget.apply(lambda x: ' '.join(x) if type(x) == list else x)\n",
    "    budget = budget.str.replace(r'\\$.*[-—–](?![a-z])', '$', regex=True)\n",
    "    movies_wiki_df['budget'] = budget.str.extract(f'({type_one}|{type_two})', flags=re.IGNORECASE)[0].apply(parse_dollars)\n",
    "    movies_wiki_df.drop('Budget', axis=1, inplace=True)\n",
    "    \n",
    "    # Cleaning running time column using regular expresssions\n",
    "    running_time = movies_wiki_df['Running time'].dropna()\n",
    "    running_time = running_time.apply(lambda x: ' '.join(x) if type(x) == list else x)\n",
    "    running_time_extract = running_time.str.extract(r'(\\d+)\\s*ho?u?r?s?\\s*(\\d*)|(\\d+)|s*m')\n",
    "    running_time_extract = running_time_extract.apply(lambda x: pd.to_numeric(x, errors='coerce')).fillna(0)\n",
    "    movies_wiki_df['running_time'] = running_time_extract.apply(lambda x: x[0]*60 + x[1] if x[2] == 0 else x[2], axis=1)\n",
    "    movies_wiki_df.drop('Running time', axis=1, inplace = True)\n",
    "    \n",
    "    return movies_wiki_df"
   ]
  },
  {
   "cell_type": "code",
   "execution_count": 359,
   "metadata": {},
   "outputs": [],
   "source": [
    "movies_wiki_df = clean_movies_json(movies_wiki_raw)"
   ]
  },
  {
   "cell_type": "code",
   "execution_count": 360,
   "metadata": {},
   "outputs": [
    {
     "data": {
      "text/plain": [
       "Index(['url', 'year', 'imdb_link', 'title', 'Based on', 'Starring',\n",
       "       'Cinematography', 'Country', 'Language', 'Director', 'Distributor',\n",
       "       'Editor(s)', 'Composer(s)', 'Producer(s)', 'Production company(s)',\n",
       "       'Writer(s)', 'imdb_id', 'box_office', 'release_date', 'budget',\n",
       "       'running_time'],\n",
       "      dtype='object')"
      ]
     },
     "execution_count": 360,
     "metadata": {},
     "output_type": "execute_result"
    }
   ],
   "source": [
    "movies_wiki_df.columns"
   ]
  },
  {
   "cell_type": "code",
   "execution_count": 361,
   "metadata": {},
   "outputs": [
    {
     "data": {
      "text/html": [
       "<div>\n",
       "<style scoped>\n",
       "    .dataframe tbody tr th:only-of-type {\n",
       "        vertical-align: middle;\n",
       "    }\n",
       "\n",
       "    .dataframe tbody tr th {\n",
       "        vertical-align: top;\n",
       "    }\n",
       "\n",
       "    .dataframe thead th {\n",
       "        text-align: right;\n",
       "    }\n",
       "</style>\n",
       "<table border=\"1\" class=\"dataframe\">\n",
       "  <thead>\n",
       "    <tr style=\"text-align: right;\">\n",
       "      <th></th>\n",
       "      <th>budget_wiki</th>\n",
       "      <th>genres</th>\n",
       "      <th>id</th>\n",
       "      <th>imdb_id</th>\n",
       "      <th>original_language</th>\n",
       "      <th>original_title</th>\n",
       "      <th>overview</th>\n",
       "      <th>popularity</th>\n",
       "      <th>poster_path</th>\n",
       "      <th>production_companies</th>\n",
       "      <th>...</th>\n",
       "      <th>Distributor</th>\n",
       "      <th>Editor(s)</th>\n",
       "      <th>Composer(s)</th>\n",
       "      <th>Producer(s)</th>\n",
       "      <th>Production company(s)</th>\n",
       "      <th>Writer(s)</th>\n",
       "      <th>box_office</th>\n",
       "      <th>release_date_movies.met</th>\n",
       "      <th>budget_movies.met</th>\n",
       "      <th>running_time</th>\n",
       "    </tr>\n",
       "  </thead>\n",
       "  <tbody>\n",
       "    <tr>\n",
       "      <th>0</th>\n",
       "      <td>30000000</td>\n",
       "      <td>[{'id': 16, 'name': 'Animation'}, {'id': 35, 'name': 'Comedy'}, {'id': 10751, 'name': 'Family'}]</td>\n",
       "      <td>862</td>\n",
       "      <td>tt0114709</td>\n",
       "      <td>en</td>\n",
       "      <td>Toy Story</td>\n",
       "      <td>Led by Woody, Andy's toys live happily in his room until Andy's birthday brings Buzz Lightyear onto the scene. Afraid of losing his place in Andy's heart, Woody plots against Buzz. But when circumstances separate Buzz and Woody from their owner, the duo eventually learns to put aside their differences.</td>\n",
       "      <td>21.946943</td>\n",
       "      <td>/rhIRbceoE9lR4veEXuwCC2wARtG.jpg</td>\n",
       "      <td>[{'name': 'Pixar Animation Studios', 'id': 3}]</td>\n",
       "      <td>...</td>\n",
       "      <td>Buena Vista Pictures Distribution</td>\n",
       "      <td>[Robert Gordon, Lee Unkrich]</td>\n",
       "      <td>Randy Newman</td>\n",
       "      <td>[Ralph Guggenheim, Bonnie Arnold]</td>\n",
       "      <td>[Walt Disney Pictures, Pixar Animation Studios]</td>\n",
       "      <td>[John Lasseter, Pete Docter, Andrew Stanton, Joe Ranft]</td>\n",
       "      <td>373600000.0</td>\n",
       "      <td>1995-11-19</td>\n",
       "      <td>30000000.0</td>\n",
       "      <td>81.0</td>\n",
       "    </tr>\n",
       "    <tr>\n",
       "      <th>1</th>\n",
       "      <td>65000000</td>\n",
       "      <td>[{'id': 12, 'name': 'Adventure'}, {'id': 14, 'name': 'Fantasy'}, {'id': 10751, 'name': 'Family'}]</td>\n",
       "      <td>8844</td>\n",
       "      <td>tt0113497</td>\n",
       "      <td>en</td>\n",
       "      <td>Jumanji</td>\n",
       "      <td>When siblings Judy and Peter discover an enchanted board game that opens the door to a magical world, they unwittingly invite Alan -- an adult who's been trapped inside the game for 26 years -- into their living room. Alan's only hope for freedom is to finish the game, which proves risky as all three find themselves running from giant rhinoceroses, evil monkeys and other terrifying creatures.</td>\n",
       "      <td>17.015539</td>\n",
       "      <td>/vzmL6fP7aPKNKPRTFnZmiUfciyV.jpg</td>\n",
       "      <td>[{'name': 'TriStar Pictures', 'id': 559}, {'name': 'Teitler Film', 'id': 2550}, {'name': 'Interscope Communications', 'id': 10201}]</td>\n",
       "      <td>...</td>\n",
       "      <td>TriStar Pictures</td>\n",
       "      <td>Robert Dalva</td>\n",
       "      <td>James Horner</td>\n",
       "      <td>[Scott Kroopf, William Teitler]</td>\n",
       "      <td>[Interscope Communications, Teitler Film]</td>\n",
       "      <td>[Greg Taylor, Jim Strain, Chris Van Allsburg]</td>\n",
       "      <td>262800000.0</td>\n",
       "      <td>1995-12-15</td>\n",
       "      <td>65000000.0</td>\n",
       "      <td>104.0</td>\n",
       "    </tr>\n",
       "    <tr>\n",
       "      <th>2</th>\n",
       "      <td>0</td>\n",
       "      <td>[{'id': 10749, 'name': 'Romance'}, {'id': 35, 'name': 'Comedy'}]</td>\n",
       "      <td>15602</td>\n",
       "      <td>tt0113228</td>\n",
       "      <td>en</td>\n",
       "      <td>Grumpier Old Men</td>\n",
       "      <td>A family wedding reignites the ancient feud between next-door neighbors and fishing buddies John and Max. Meanwhile, a sultry Italian divorcée opens a restaurant at the local bait shop, alarming the locals who worry she'll scare the fish away. But she's less interested in seafood than she is in cooking up a hot time with Max.</td>\n",
       "      <td>11.712900</td>\n",
       "      <td>/6ksm1sjKMFLbO7UY2i6G1ju9SML.jpg</td>\n",
       "      <td>[{'name': 'Warner Bros.', 'id': 6194}, {'name': 'Lancaster Gate', 'id': 19464}]</td>\n",
       "      <td>...</td>\n",
       "      <td>Warner Bros. Pictures</td>\n",
       "      <td>[Billy Weber, Seth Flaum, Maryann Brandon]</td>\n",
       "      <td>Alan Silvestri</td>\n",
       "      <td>[John Davis, Richard C. Berman]</td>\n",
       "      <td>NaN</td>\n",
       "      <td>Mark Steven Johnson</td>\n",
       "      <td>71500000.0</td>\n",
       "      <td>1995-12-22</td>\n",
       "      <td>25000000.0</td>\n",
       "      <td>101.0</td>\n",
       "    </tr>\n",
       "    <tr>\n",
       "      <th>3</th>\n",
       "      <td>16000000</td>\n",
       "      <td>[{'id': 35, 'name': 'Comedy'}, {'id': 18, 'name': 'Drama'}, {'id': 10749, 'name': 'Romance'}]</td>\n",
       "      <td>31357</td>\n",
       "      <td>tt0114885</td>\n",
       "      <td>en</td>\n",
       "      <td>Waiting to Exhale</td>\n",
       "      <td>Cheated on, mistreated and stepped on, the women are holding their breath, waiting for the elusive \"good man\" to break a string of less-than-stellar lovers. Friends and confidants Vannah, Bernie, Glo and Robin talk it all out, determined to find a better way to breathe.</td>\n",
       "      <td>3.859495</td>\n",
       "      <td>/16XOMpEaLWkrcPqSQqhTmeJuqQl.jpg</td>\n",
       "      <td>[{'name': 'Twentieth Century Fox Film Corporation', 'id': 306}]</td>\n",
       "      <td>...</td>\n",
       "      <td>20th Century Fox</td>\n",
       "      <td>Richard Chew</td>\n",
       "      <td>Kenneth \"Babyface\" Edmonds</td>\n",
       "      <td>[Terry McMillan, Ronald Bass, Deborah Schindler, Ezra Swerdlow]</td>\n",
       "      <td>NaN</td>\n",
       "      <td>[Terry McMillan, Ronald Bass]</td>\n",
       "      <td>82000000.0</td>\n",
       "      <td>1995-12-22</td>\n",
       "      <td>16000000.0</td>\n",
       "      <td>124.0</td>\n",
       "    </tr>\n",
       "    <tr>\n",
       "      <th>4</th>\n",
       "      <td>0</td>\n",
       "      <td>[{'id': 35, 'name': 'Comedy'}]</td>\n",
       "      <td>11862</td>\n",
       "      <td>tt0113041</td>\n",
       "      <td>en</td>\n",
       "      <td>Father of the Bride Part II</td>\n",
       "      <td>Just when George Banks has recovered from his daughter's wedding, he receives the news that she's pregnant ... and that George's wife, Nina, is expecting too. He was planning on selling their home, but that's a plan that -- like George -- will have to change with the arrival of both a grandchild and a kid of his own.</td>\n",
       "      <td>8.387519</td>\n",
       "      <td>/e64sOI48hQXyru7naBFyssKFxVd.jpg</td>\n",
       "      <td>[{'name': 'Sandollar Productions', 'id': 5842}, {'name': 'Touchstone Pictures', 'id': 9195}]</td>\n",
       "      <td>...</td>\n",
       "      <td>Buena Vista Pictures</td>\n",
       "      <td>[Adam Bernardi, Stephen A. Rotter]</td>\n",
       "      <td>Alan Silvestri</td>\n",
       "      <td>Nancy Meyers</td>\n",
       "      <td>Touchstone Pictures</td>\n",
       "      <td>[Nancy Meyers, Charles Shyer]</td>\n",
       "      <td>76600000.0</td>\n",
       "      <td>1995-01-01</td>\n",
       "      <td>30000000.0</td>\n",
       "      <td>106.0</td>\n",
       "    </tr>\n",
       "  </tbody>\n",
       "</table>\n",
       "<p>5 rows × 40 columns</p>\n",
       "</div>"
      ],
      "text/plain": [
       "   budget_wiki  \\\n",
       "0  30000000      \n",
       "1  65000000      \n",
       "2  0             \n",
       "3  16000000      \n",
       "4  0             \n",
       "\n",
       "                                                                                              genres  \\\n",
       "0  [{'id': 16, 'name': 'Animation'}, {'id': 35, 'name': 'Comedy'}, {'id': 10751, 'name': 'Family'}]    \n",
       "1  [{'id': 12, 'name': 'Adventure'}, {'id': 14, 'name': 'Fantasy'}, {'id': 10751, 'name': 'Family'}]   \n",
       "2  [{'id': 10749, 'name': 'Romance'}, {'id': 35, 'name': 'Comedy'}]                                    \n",
       "3  [{'id': 35, 'name': 'Comedy'}, {'id': 18, 'name': 'Drama'}, {'id': 10749, 'name': 'Romance'}]       \n",
       "4  [{'id': 35, 'name': 'Comedy'}]                                                                      \n",
       "\n",
       "      id    imdb_id original_language               original_title  \\\n",
       "0  862    tt0114709  en                Toy Story                     \n",
       "1  8844   tt0113497  en                Jumanji                       \n",
       "2  15602  tt0113228  en                Grumpier Old Men              \n",
       "3  31357  tt0114885  en                Waiting to Exhale             \n",
       "4  11862  tt0113041  en                Father of the Bride Part II   \n",
       "\n",
       "                                                                                                                                                                                                                                                                                                                                                                                                      overview  \\\n",
       "0  Led by Woody, Andy's toys live happily in his room until Andy's birthday brings Buzz Lightyear onto the scene. Afraid of losing his place in Andy's heart, Woody plots against Buzz. But when circumstances separate Buzz and Woody from their owner, the duo eventually learns to put aside their differences.                                                                                               \n",
       "1  When siblings Judy and Peter discover an enchanted board game that opens the door to a magical world, they unwittingly invite Alan -- an adult who's been trapped inside the game for 26 years -- into their living room. Alan's only hope for freedom is to finish the game, which proves risky as all three find themselves running from giant rhinoceroses, evil monkeys and other terrifying creatures.   \n",
       "2  A family wedding reignites the ancient feud between next-door neighbors and fishing buddies John and Max. Meanwhile, a sultry Italian divorcée opens a restaurant at the local bait shop, alarming the locals who worry she'll scare the fish away. But she's less interested in seafood than she is in cooking up a hot time with Max.                                                                       \n",
       "3  Cheated on, mistreated and stepped on, the women are holding their breath, waiting for the elusive \"good man\" to break a string of less-than-stellar lovers. Friends and confidants Vannah, Bernie, Glo and Robin talk it all out, determined to find a better way to breathe.                                                                                                                                \n",
       "4  Just when George Banks has recovered from his daughter's wedding, he receives the news that she's pregnant ... and that George's wife, Nina, is expecting too. He was planning on selling their home, but that's a plan that -- like George -- will have to change with the arrival of both a grandchild and a kid of his own.                                                                                \n",
       "\n",
       "   popularity                       poster_path  \\\n",
       "0  21.946943   /rhIRbceoE9lR4veEXuwCC2wARtG.jpg   \n",
       "1  17.015539   /vzmL6fP7aPKNKPRTFnZmiUfciyV.jpg   \n",
       "2  11.712900   /6ksm1sjKMFLbO7UY2i6G1ju9SML.jpg   \n",
       "3  3.859495    /16XOMpEaLWkrcPqSQqhTmeJuqQl.jpg   \n",
       "4  8.387519    /e64sOI48hQXyru7naBFyssKFxVd.jpg   \n",
       "\n",
       "                                                                                                                  production_companies  \\\n",
       "0  [{'name': 'Pixar Animation Studios', 'id': 3}]                                                                                        \n",
       "1  [{'name': 'TriStar Pictures', 'id': 559}, {'name': 'Teitler Film', 'id': 2550}, {'name': 'Interscope Communications', 'id': 10201}]   \n",
       "2  [{'name': 'Warner Bros.', 'id': 6194}, {'name': 'Lancaster Gate', 'id': 19464}]                                                       \n",
       "3  [{'name': 'Twentieth Century Fox Film Corporation', 'id': 306}]                                                                       \n",
       "4  [{'name': 'Sandollar Productions', 'id': 5842}, {'name': 'Touchstone Pictures', 'id': 9195}]                                          \n",
       "\n",
       "   ...                        Distributor  \\\n",
       "0  ...  Buena Vista Pictures Distribution   \n",
       "1  ...  TriStar Pictures                    \n",
       "2  ...  Warner Bros. Pictures               \n",
       "3  ...  20th Century Fox                    \n",
       "4  ...  Buena Vista Pictures                \n",
       "\n",
       "                                    Editor(s)                 Composer(s)  \\\n",
       "0  [Robert Gordon, Lee Unkrich]                Randy Newman                 \n",
       "1  Robert Dalva                                James Horner                 \n",
       "2  [Billy Weber, Seth Flaum, Maryann Brandon]  Alan Silvestri               \n",
       "3  Richard Chew                                Kenneth \"Babyface\" Edmonds   \n",
       "4  [Adam Bernardi, Stephen A. Rotter]          Alan Silvestri               \n",
       "\n",
       "                                                       Producer(s)  \\\n",
       "0  [Ralph Guggenheim, Bonnie Arnold]                                 \n",
       "1  [Scott Kroopf, William Teitler]                                   \n",
       "2  [John Davis, Richard C. Berman]                                   \n",
       "3  [Terry McMillan, Ronald Bass, Deborah Schindler, Ezra Swerdlow]   \n",
       "4  Nancy Meyers                                                      \n",
       "\n",
       "                             Production company(s)  \\\n",
       "0  [Walt Disney Pictures, Pixar Animation Studios]   \n",
       "1  [Interscope Communications, Teitler Film]         \n",
       "2  NaN                                               \n",
       "3  NaN                                               \n",
       "4  Touchstone Pictures                               \n",
       "\n",
       "                                                 Writer(s)   box_office  \\\n",
       "0  [John Lasseter, Pete Docter, Andrew Stanton, Joe Ranft]  373600000.0   \n",
       "1  [Greg Taylor, Jim Strain, Chris Van Allsburg]            262800000.0   \n",
       "2  Mark Steven Johnson                                      71500000.0    \n",
       "3  [Terry McMillan, Ronald Bass]                            82000000.0    \n",
       "4  [Nancy Meyers, Charles Shyer]                            76600000.0    \n",
       "\n",
       "   release_date_movies.met  budget_movies.met  running_time  \n",
       "0 1995-11-19                30000000.0         81.0          \n",
       "1 1995-12-15                65000000.0         104.0         \n",
       "2 1995-12-22                25000000.0         101.0         \n",
       "3 1995-12-22                16000000.0         124.0         \n",
       "4 1995-01-01                30000000.0         106.0         \n",
       "\n",
       "[5 rows x 40 columns]"
      ]
     },
     "execution_count": 361,
     "metadata": {},
     "output_type": "execute_result"
    }
   ],
   "source": [
    "df_movies = pd.merge(df_movies, movies_wiki_df, on='imdb_id', suffixes=['_wiki','_movies.met'])\n",
    "df_movies.head()"
   ]
  },
  {
   "cell_type": "code",
   "execution_count": 362,
   "metadata": {},
   "outputs": [],
   "source": [
    "df_movies = df_movies.drop(df_movies[(df_movies['release_date_wiki'] > '1996-01-01') & (df_movies['release_date_movies.met'] < '1965-01-01')].index)"
   ]
  },
  {
   "cell_type": "code",
   "execution_count": 363,
   "metadata": {},
   "outputs": [
    {
     "data": {
      "text/plain": [
       "English                                                5480\n",
       "NaN                                                    134 \n",
       "(English, Spanish)                                     68  \n",
       "(English, French)                                      35  \n",
       "(English, Japanese)                                    25  \n",
       "                                                       ..  \n",
       "(English, Somali)                                      1   \n",
       "(English, Mende, Spanish, Portuguese)                  1   \n",
       "(English, German, Nepali, Hindi, Mandarin, Tibetan)    1   \n",
       "(English, Romanian)                                    1   \n",
       "(English, Russian, Spanish)                            1   \n",
       "Name: Language, Length: 198, dtype: int64"
      ]
     },
     "execution_count": 363,
     "metadata": {},
     "output_type": "execute_result"
    }
   ],
   "source": [
    "df_movies['Language'].apply(lambda x: tuple(x) if type(x) == list else x).value_counts(dropna=False)"
   ]
  },
  {
   "cell_type": "code",
   "execution_count": 364,
   "metadata": {},
   "outputs": [],
   "source": [
    "df_movies.drop(['title_wiki','release_date_wiki','Language','Production company(s)'], inplace=True, axis = 1)"
   ]
  },
  {
   "cell_type": "code",
   "execution_count": 365,
   "metadata": {},
   "outputs": [],
   "source": [
    "def merge_common_data(df, movies_met_col, wiki_col):\n",
    "    \"\"\"This function merges the data from two common columns\n",
    "    and drops the redundant column.\"\"\"\n",
    "    df[movies_met_col] = df.apply(lambda x: x[wiki_col] if x[movies_met_col] == 0 else x[movies_met_col], axis=1)\n",
    "    df.drop(wiki_col, inplace=True, axis = 1)"
   ]
  },
  {
   "cell_type": "code",
   "execution_count": 366,
   "metadata": {},
   "outputs": [],
   "source": [
    "merge_common_data(df_movies, 'runtime', 'running_time')\n",
    "merge_common_data(df_movies, 'budget_movies.met', 'budget_wiki')\n",
    "merge_common_data(df_movies, 'revenue', 'box_office')"
   ]
  },
  {
   "cell_type": "code",
   "execution_count": 367,
   "metadata": {},
   "outputs": [
    {
     "data": {
      "text/plain": [
       "Released           6024\n",
       "Rumored            12  \n",
       "Post Production    10  \n",
       "In Production      2   \n",
       "Name: status, dtype: int64"
      ]
     },
     "execution_count": 367,
     "metadata": {},
     "output_type": "execute_result"
    }
   ],
   "source": [
    "df_movies.status.value_counts()"
   ]
  },
  {
   "cell_type": "code",
   "execution_count": 368,
   "metadata": {},
   "outputs": [],
   "source": [
    "df_movies = df_movies.loc[:, ['id', 'imdb_id', 'original_language', 'original_title',\n",
    "       'overview', 'popularity', 'production_companies',\n",
    "       'production_countries', 'revenue', 'runtime', 'spoken_languages',\n",
    "        'vote_average', 'vote_count', 'url', 'year',\n",
    "       'imdb_link', 'title_movies.met', 'Based on', 'Starring',\n",
    "       'Cinematography', 'Country', 'Director', 'Distributor', 'Editor(s)',\n",
    "       'Composer(s)', 'Producer(s)', 'Writer(s)', 'release_date_movies.met',\n",
    "       'budget_movies.met']]"
   ]
  },
  {
   "cell_type": "code",
   "execution_count": 369,
   "metadata": {},
   "outputs": [],
   "source": [
    "df_movies.rename({'title_movies.met':'title',\n",
    "                  'id':'movie_id',\n",
    "                  'url':'wikipedia_url',\n",
    "                  'budget_movies.met':'budget',\n",
    "                  'release_date_movies.met':'release_date'},\n",
    "                   axis=1, inplace=True)"
   ]
  },
  {
   "cell_type": "code",
   "execution_count": 370,
   "metadata": {},
   "outputs": [],
   "source": [
    "for col in df_movies.columns:\n",
    "    df_movies[col] = df_movies[col].apply(lambda x: ','.join(x) if type(x) ==  list else x)"
   ]
  },
  {
   "cell_type": "code",
   "execution_count": 371,
   "metadata": {},
   "outputs": [],
   "source": [
    "for col in ['production_companies','production_countries','spoken_languages']:\n",
    "    df_movies[col] = df_movies[col].str.findall(r'name\\'\\:\\s\\'([a-zA-z() ]+)')\n",
    "    df_movies[col] = df_movies[col].apply(lambda x: ','.join(x) if type(x) ==  list else x)"
   ]
  },
  {
   "cell_type": "code",
   "execution_count": 372,
   "metadata": {},
   "outputs": [],
   "source": [
    "rating_counts = (df_ratings.groupby(['movieId','rating'], as_index=False).count() \n",
    "                .rename({'userId':'count'}, axis=1) \n",
    "                .pivot(index='movieId',columns='rating', values='count'))\n",
    "rating_counts.columns = ['rating_' + str(col) for col in rating_counts.columns] "
   ]
  },
  {
   "cell_type": "code",
   "execution_count": 373,
   "metadata": {},
   "outputs": [],
   "source": [
    "df_movies = pd.merge(df_movies, rating_counts, left_on='movie_id', right_index=True, how='left')\n",
    "df_movies[rating_counts.columns] = df_movies[rating_counts.columns].fillna(0)"
   ]
  },
  {
   "cell_type": "code",
   "execution_count": 374,
   "metadata": {},
   "outputs": [
    {
     "data": {
      "text/html": [
       "<div>\n",
       "<style scoped>\n",
       "    .dataframe tbody tr th:only-of-type {\n",
       "        vertical-align: middle;\n",
       "    }\n",
       "\n",
       "    .dataframe tbody tr th {\n",
       "        vertical-align: top;\n",
       "    }\n",
       "\n",
       "    .dataframe thead th {\n",
       "        text-align: right;\n",
       "    }\n",
       "</style>\n",
       "<table border=\"1\" class=\"dataframe\">\n",
       "  <thead>\n",
       "    <tr style=\"text-align: right;\">\n",
       "      <th></th>\n",
       "      <th>movie_id</th>\n",
       "      <th>imdb_id</th>\n",
       "      <th>original_language</th>\n",
       "      <th>original_title</th>\n",
       "      <th>overview</th>\n",
       "      <th>popularity</th>\n",
       "      <th>production_companies</th>\n",
       "      <th>production_countries</th>\n",
       "      <th>revenue</th>\n",
       "      <th>runtime</th>\n",
       "      <th>...</th>\n",
       "      <th>rating_0.5</th>\n",
       "      <th>rating_1.0</th>\n",
       "      <th>rating_1.5</th>\n",
       "      <th>rating_2.0</th>\n",
       "      <th>rating_2.5</th>\n",
       "      <th>rating_3.0</th>\n",
       "      <th>rating_3.5</th>\n",
       "      <th>rating_4.0</th>\n",
       "      <th>rating_4.5</th>\n",
       "      <th>rating_5.0</th>\n",
       "    </tr>\n",
       "  </thead>\n",
       "  <tbody>\n",
       "    <tr>\n",
       "      <th>4370</th>\n",
       "      <td>50456</td>\n",
       "      <td>tt0993842</td>\n",
       "      <td>en</td>\n",
       "      <td>Hanna</td>\n",
       "      <td>A 16-year-old girl raised by her father to be the perfect assassin is dispatched on a mission across Europe. Tracked by a ruthless operatives, she faces startling revelations about her existence and questions about her humanity.</td>\n",
       "      <td>8.071196</td>\n",
       "      <td>Focus Features,Neunte Babelsberg Film,Holleran Company,Sechzehnte Babelsberg Film</td>\n",
       "      <td>Germany,United Kingdom,United States of America</td>\n",
       "      <td>63782078.0</td>\n",
       "      <td>111.0</td>\n",
       "      <td>...</td>\n",
       "      <td>0.0</td>\n",
       "      <td>0.0</td>\n",
       "      <td>0.0</td>\n",
       "      <td>0.0</td>\n",
       "      <td>0.0</td>\n",
       "      <td>0.0</td>\n",
       "      <td>0.0</td>\n",
       "      <td>0.0</td>\n",
       "      <td>0.0</td>\n",
       "      <td>0.0</td>\n",
       "    </tr>\n",
       "    <tr>\n",
       "      <th>2138</th>\n",
       "      <td>1647</td>\n",
       "      <td>tt0292506</td>\n",
       "      <td>en</td>\n",
       "      <td>The Recruit</td>\n",
       "      <td>A brilliant CIA trainee must prove his worth at the Farm, the agency's secret training grounds, where he learns to watch his back and trust no one.</td>\n",
       "      <td>11.485473</td>\n",
       "      <td>Birnbaum</td>\n",
       "      <td>United States of America</td>\n",
       "      <td>101191884.0</td>\n",
       "      <td>115.0</td>\n",
       "      <td>...</td>\n",
       "      <td>0.0</td>\n",
       "      <td>1.0</td>\n",
       "      <td>0.0</td>\n",
       "      <td>1.0</td>\n",
       "      <td>0.0</td>\n",
       "      <td>3.0</td>\n",
       "      <td>0.0</td>\n",
       "      <td>1.0</td>\n",
       "      <td>0.0</td>\n",
       "      <td>0.0</td>\n",
       "    </tr>\n",
       "  </tbody>\n",
       "</table>\n",
       "<p>2 rows × 39 columns</p>\n",
       "</div>"
      ],
      "text/plain": [
       "      movie_id    imdb_id original_language original_title  \\\n",
       "4370  50456     tt0993842  en                Hanna           \n",
       "2138  1647      tt0292506  en                The Recruit     \n",
       "\n",
       "                                                                                                                                                                                                                                  overview  \\\n",
       "4370  A 16-year-old girl raised by her father to be the perfect assassin is dispatched on a mission across Europe. Tracked by a ruthless operatives, she faces startling revelations about her existence and questions about her humanity.   \n",
       "2138  A brilliant CIA trainee must prove his worth at the Farm, the agency's secret training grounds, where he learns to watch his back and trust no one.                                                                                    \n",
       "\n",
       "      popularity  \\\n",
       "4370  8.071196     \n",
       "2138  11.485473    \n",
       "\n",
       "                                                                   production_companies  \\\n",
       "4370  Focus Features,Neunte Babelsberg Film,Holleran Company,Sechzehnte Babelsberg Film   \n",
       "2138  Birnbaum                                                                            \n",
       "\n",
       "                                 production_countries      revenue  runtime  \\\n",
       "4370  Germany,United Kingdom,United States of America  63782078.0   111.0     \n",
       "2138  United States of America                         101191884.0  115.0     \n",
       "\n",
       "      ... rating_0.5  rating_1.0  rating_1.5 rating_2.0  rating_2.5  \\\n",
       "4370  ...  0.0        0.0         0.0         0.0        0.0          \n",
       "2138  ...  0.0        1.0         0.0         1.0        0.0          \n",
       "\n",
       "     rating_3.0 rating_3.5 rating_4.0 rating_4.5 rating_5.0  \n",
       "4370  0.0        0.0        0.0        0.0        0.0        \n",
       "2138  3.0        0.0        1.0        0.0        0.0        \n",
       "\n",
       "[2 rows x 39 columns]"
      ]
     },
     "execution_count": 374,
     "metadata": {},
     "output_type": "execute_result"
    }
   ],
   "source": [
    "df_movies.sample(2)"
   ]
  },
  {
   "cell_type": "markdown",
   "metadata": {},
   "source": [
    "# 3. Load"
   ]
  },
  {
   "cell_type": "code",
   "execution_count": 102,
   "metadata": {},
   "outputs": [],
   "source": [
    "\n",
    "# except Error as e:\n",
    "#     print(e)"
   ]
  },
  {
   "cell_type": "code",
   "execution_count": 385,
   "metadata": {},
   "outputs": [
    {
     "ename": "SyntaxError",
     "evalue": "invalid syntax (<ipython-input-385-d049893a8f63>, line 1)",
     "output_type": "error",
     "traceback": [
      "\u001b[1;36m  File \u001b[1;32m\"<ipython-input-385-d049893a8f63>\"\u001b[1;36m, line \u001b[1;32m1\u001b[0m\n\u001b[1;33m    engine = create_engine('mysql+pymysql://root:'madrid07'@'127.0.0.1'/'movies_db'')\u001b[0m\n\u001b[1;37m                                                  ^\u001b[0m\n\u001b[1;31mSyntaxError\u001b[0m\u001b[1;31m:\u001b[0m invalid syntax\n"
     ]
    }
   ],
   "source": [
    "engine = create_engine('mysql+pymysql://root:pass@'127.0.0.1'/'movies_db'')\n",
    "df_movies.to_sql(name = 'movies_data', con = conn, if_exists = 'replace', index= False)"
   ]
  },
  {
   "cell_type": "code",
   "execution_count": 383,
   "metadata": {},
   "outputs": [
    {
     "ename": "OperationalError",
     "evalue": "(1045, \"Access denied for user 'root'@'localhost' (using password: YES)\")",
     "output_type": "error",
     "traceback": [
      "\u001b[1;31m---------------------------------------------------------------------------\u001b[0m",
      "\u001b[1;31mOperationalError\u001b[0m                          Traceback (most recent call last)",
      "\u001b[1;32m<ipython-input-383-70ed1c0893a5>\u001b[0m in \u001b[0;36m<module>\u001b[1;34m\u001b[0m\n\u001b[1;32m----> 1\u001b[1;33m \u001b[0mconn\u001b[0m \u001b[1;33m=\u001b[0m \u001b[0mpymysql\u001b[0m\u001b[1;33m.\u001b[0m\u001b[0mconnect\u001b[0m\u001b[1;33m(\u001b[0m\u001b[1;34m'127.0.0.1'\u001b[0m\u001b[1;33m,\u001b[0m\u001b[1;34m\"root\"\u001b[0m\u001b[1;33m,\u001b[0m\u001b[1;34m\"pass\"\u001b[0m\u001b[1;33m,\u001b[0m\u001b[1;34m\"movies_db\"\u001b[0m \u001b[1;33m)\u001b[0m\u001b[1;33m\u001b[0m\u001b[1;33m\u001b[0m\u001b[0m\n\u001b[0m",
      "\u001b[1;32m~\\anaconda3\\lib\\site-packages\\pymysql\\__init__.py\u001b[0m in \u001b[0;36mConnect\u001b[1;34m(*args, **kwargs)\u001b[0m\n\u001b[0;32m     92\u001b[0m     \"\"\"\n\u001b[0;32m     93\u001b[0m     \u001b[1;32mfrom\u001b[0m \u001b[1;33m.\u001b[0m\u001b[0mconnections\u001b[0m \u001b[1;32mimport\u001b[0m \u001b[0mConnection\u001b[0m\u001b[1;33m\u001b[0m\u001b[1;33m\u001b[0m\u001b[0m\n\u001b[1;32m---> 94\u001b[1;33m     \u001b[1;32mreturn\u001b[0m \u001b[0mConnection\u001b[0m\u001b[1;33m(\u001b[0m\u001b[1;33m*\u001b[0m\u001b[0margs\u001b[0m\u001b[1;33m,\u001b[0m \u001b[1;33m**\u001b[0m\u001b[0mkwargs\u001b[0m\u001b[1;33m)\u001b[0m\u001b[1;33m\u001b[0m\u001b[1;33m\u001b[0m\u001b[0m\n\u001b[0m\u001b[0;32m     95\u001b[0m \u001b[1;33m\u001b[0m\u001b[0m\n\u001b[0;32m     96\u001b[0m \u001b[1;32mfrom\u001b[0m \u001b[1;33m.\u001b[0m \u001b[1;32mimport\u001b[0m \u001b[0mconnections\u001b[0m \u001b[1;32mas\u001b[0m \u001b[0m_orig_conn\u001b[0m\u001b[1;33m\u001b[0m\u001b[1;33m\u001b[0m\u001b[0m\n",
      "\u001b[1;32m~\\anaconda3\\lib\\site-packages\\pymysql\\connections.py\u001b[0m in \u001b[0;36m__init__\u001b[1;34m(self, host, user, password, database, port, unix_socket, charset, sql_mode, read_default_file, conv, use_unicode, client_flag, cursorclass, init_command, connect_timeout, ssl, read_default_group, compress, named_pipe, autocommit, db, passwd, local_infile, max_allowed_packet, defer_connect, auth_plugin_map, read_timeout, write_timeout, bind_address, binary_prefix, program_name, server_public_key)\u001b[0m\n\u001b[0;32m    325\u001b[0m             \u001b[0mself\u001b[0m\u001b[1;33m.\u001b[0m\u001b[0m_sock\u001b[0m \u001b[1;33m=\u001b[0m \u001b[1;32mNone\u001b[0m\u001b[1;33m\u001b[0m\u001b[1;33m\u001b[0m\u001b[0m\n\u001b[0;32m    326\u001b[0m         \u001b[1;32melse\u001b[0m\u001b[1;33m:\u001b[0m\u001b[1;33m\u001b[0m\u001b[1;33m\u001b[0m\u001b[0m\n\u001b[1;32m--> 327\u001b[1;33m             \u001b[0mself\u001b[0m\u001b[1;33m.\u001b[0m\u001b[0mconnect\u001b[0m\u001b[1;33m(\u001b[0m\u001b[1;33m)\u001b[0m\u001b[1;33m\u001b[0m\u001b[1;33m\u001b[0m\u001b[0m\n\u001b[0m\u001b[0;32m    328\u001b[0m \u001b[1;33m\u001b[0m\u001b[0m\n\u001b[0;32m    329\u001b[0m     \u001b[1;32mdef\u001b[0m \u001b[0m_create_ssl_ctx\u001b[0m\u001b[1;33m(\u001b[0m\u001b[0mself\u001b[0m\u001b[1;33m,\u001b[0m \u001b[0msslp\u001b[0m\u001b[1;33m)\u001b[0m\u001b[1;33m:\u001b[0m\u001b[1;33m\u001b[0m\u001b[1;33m\u001b[0m\u001b[0m\n",
      "\u001b[1;32m~\\anaconda3\\lib\\site-packages\\pymysql\\connections.py\u001b[0m in \u001b[0;36mconnect\u001b[1;34m(self, sock)\u001b[0m\n\u001b[0;32m    586\u001b[0m \u001b[1;33m\u001b[0m\u001b[0m\n\u001b[0;32m    587\u001b[0m             \u001b[0mself\u001b[0m\u001b[1;33m.\u001b[0m\u001b[0m_get_server_information\u001b[0m\u001b[1;33m(\u001b[0m\u001b[1;33m)\u001b[0m\u001b[1;33m\u001b[0m\u001b[1;33m\u001b[0m\u001b[0m\n\u001b[1;32m--> 588\u001b[1;33m             \u001b[0mself\u001b[0m\u001b[1;33m.\u001b[0m\u001b[0m_request_authentication\u001b[0m\u001b[1;33m(\u001b[0m\u001b[1;33m)\u001b[0m\u001b[1;33m\u001b[0m\u001b[1;33m\u001b[0m\u001b[0m\n\u001b[0m\u001b[0;32m    589\u001b[0m \u001b[1;33m\u001b[0m\u001b[0m\n\u001b[0;32m    590\u001b[0m             \u001b[1;32mif\u001b[0m \u001b[0mself\u001b[0m\u001b[1;33m.\u001b[0m\u001b[0msql_mode\u001b[0m \u001b[1;32mis\u001b[0m \u001b[1;32mnot\u001b[0m \u001b[1;32mNone\u001b[0m\u001b[1;33m:\u001b[0m\u001b[1;33m\u001b[0m\u001b[1;33m\u001b[0m\u001b[0m\n",
      "\u001b[1;32m~\\anaconda3\\lib\\site-packages\\pymysql\\connections.py\u001b[0m in \u001b[0;36m_request_authentication\u001b[1;34m(self)\u001b[0m\n\u001b[0;32m    851\u001b[0m \u001b[1;33m\u001b[0m\u001b[0m\n\u001b[0;32m    852\u001b[0m         \u001b[0mself\u001b[0m\u001b[1;33m.\u001b[0m\u001b[0mwrite_packet\u001b[0m\u001b[1;33m(\u001b[0m\u001b[0mdata\u001b[0m\u001b[1;33m)\u001b[0m\u001b[1;33m\u001b[0m\u001b[1;33m\u001b[0m\u001b[0m\n\u001b[1;32m--> 853\u001b[1;33m         \u001b[0mauth_packet\u001b[0m \u001b[1;33m=\u001b[0m \u001b[0mself\u001b[0m\u001b[1;33m.\u001b[0m\u001b[0m_read_packet\u001b[0m\u001b[1;33m(\u001b[0m\u001b[1;33m)\u001b[0m\u001b[1;33m\u001b[0m\u001b[1;33m\u001b[0m\u001b[0m\n\u001b[0m\u001b[0;32m    854\u001b[0m \u001b[1;33m\u001b[0m\u001b[0m\n\u001b[0;32m    855\u001b[0m         \u001b[1;31m# if authentication method isn't accepted the first byte\u001b[0m\u001b[1;33m\u001b[0m\u001b[1;33m\u001b[0m\u001b[1;33m\u001b[0m\u001b[0m\n",
      "\u001b[1;32m~\\anaconda3\\lib\\site-packages\\pymysql\\connections.py\u001b[0m in \u001b[0;36m_read_packet\u001b[1;34m(self, packet_type)\u001b[0m\n\u001b[0;32m    674\u001b[0m             \u001b[1;32mif\u001b[0m \u001b[0mself\u001b[0m\u001b[1;33m.\u001b[0m\u001b[0m_result\u001b[0m \u001b[1;32mis\u001b[0m \u001b[1;32mnot\u001b[0m \u001b[1;32mNone\u001b[0m \u001b[1;32mand\u001b[0m \u001b[0mself\u001b[0m\u001b[1;33m.\u001b[0m\u001b[0m_result\u001b[0m\u001b[1;33m.\u001b[0m\u001b[0munbuffered_active\u001b[0m \u001b[1;32mis\u001b[0m \u001b[1;32mTrue\u001b[0m\u001b[1;33m:\u001b[0m\u001b[1;33m\u001b[0m\u001b[1;33m\u001b[0m\u001b[0m\n\u001b[0;32m    675\u001b[0m                 \u001b[0mself\u001b[0m\u001b[1;33m.\u001b[0m\u001b[0m_result\u001b[0m\u001b[1;33m.\u001b[0m\u001b[0munbuffered_active\u001b[0m \u001b[1;33m=\u001b[0m \u001b[1;32mFalse\u001b[0m\u001b[1;33m\u001b[0m\u001b[1;33m\u001b[0m\u001b[0m\n\u001b[1;32m--> 676\u001b[1;33m             \u001b[0mpacket\u001b[0m\u001b[1;33m.\u001b[0m\u001b[0mraise_for_error\u001b[0m\u001b[1;33m(\u001b[0m\u001b[1;33m)\u001b[0m\u001b[1;33m\u001b[0m\u001b[1;33m\u001b[0m\u001b[0m\n\u001b[0m\u001b[0;32m    677\u001b[0m         \u001b[1;32mreturn\u001b[0m \u001b[0mpacket\u001b[0m\u001b[1;33m\u001b[0m\u001b[1;33m\u001b[0m\u001b[0m\n\u001b[0;32m    678\u001b[0m \u001b[1;33m\u001b[0m\u001b[0m\n",
      "\u001b[1;32m~\\anaconda3\\lib\\site-packages\\pymysql\\protocol.py\u001b[0m in \u001b[0;36mraise_for_error\u001b[1;34m(self)\u001b[0m\n\u001b[0;32m    221\u001b[0m         \u001b[0merrno\u001b[0m \u001b[1;33m=\u001b[0m \u001b[0mself\u001b[0m\u001b[1;33m.\u001b[0m\u001b[0mread_uint16\u001b[0m\u001b[1;33m(\u001b[0m\u001b[1;33m)\u001b[0m\u001b[1;33m\u001b[0m\u001b[1;33m\u001b[0m\u001b[0m\n\u001b[0;32m    222\u001b[0m         \u001b[1;32mif\u001b[0m \u001b[0mDEBUG\u001b[0m\u001b[1;33m:\u001b[0m \u001b[0mprint\u001b[0m\u001b[1;33m(\u001b[0m\u001b[1;34m\"errno =\"\u001b[0m\u001b[1;33m,\u001b[0m \u001b[0merrno\u001b[0m\u001b[1;33m)\u001b[0m\u001b[1;33m\u001b[0m\u001b[1;33m\u001b[0m\u001b[0m\n\u001b[1;32m--> 223\u001b[1;33m         \u001b[0merr\u001b[0m\u001b[1;33m.\u001b[0m\u001b[0mraise_mysql_exception\u001b[0m\u001b[1;33m(\u001b[0m\u001b[0mself\u001b[0m\u001b[1;33m.\u001b[0m\u001b[0m_data\u001b[0m\u001b[1;33m)\u001b[0m\u001b[1;33m\u001b[0m\u001b[1;33m\u001b[0m\u001b[0m\n\u001b[0m\u001b[0;32m    224\u001b[0m \u001b[1;33m\u001b[0m\u001b[0m\n\u001b[0;32m    225\u001b[0m     \u001b[1;32mdef\u001b[0m \u001b[0mdump\u001b[0m\u001b[1;33m(\u001b[0m\u001b[0mself\u001b[0m\u001b[1;33m)\u001b[0m\u001b[1;33m:\u001b[0m\u001b[1;33m\u001b[0m\u001b[1;33m\u001b[0m\u001b[0m\n",
      "\u001b[1;32m~\\anaconda3\\lib\\site-packages\\pymysql\\err.py\u001b[0m in \u001b[0;36mraise_mysql_exception\u001b[1;34m(data)\u001b[0m\n\u001b[0;32m    105\u001b[0m     \u001b[1;32mif\u001b[0m \u001b[0merrorclass\u001b[0m \u001b[1;32mis\u001b[0m \u001b[1;32mNone\u001b[0m\u001b[1;33m:\u001b[0m\u001b[1;33m\u001b[0m\u001b[1;33m\u001b[0m\u001b[0m\n\u001b[0;32m    106\u001b[0m         \u001b[0merrorclass\u001b[0m \u001b[1;33m=\u001b[0m \u001b[0mInternalError\u001b[0m \u001b[1;32mif\u001b[0m \u001b[0merrno\u001b[0m \u001b[1;33m<\u001b[0m \u001b[1;36m1000\u001b[0m \u001b[1;32melse\u001b[0m \u001b[0mOperationalError\u001b[0m\u001b[1;33m\u001b[0m\u001b[1;33m\u001b[0m\u001b[0m\n\u001b[1;32m--> 107\u001b[1;33m     \u001b[1;32mraise\u001b[0m \u001b[0merrorclass\u001b[0m\u001b[1;33m(\u001b[0m\u001b[0merrno\u001b[0m\u001b[1;33m,\u001b[0m \u001b[0merrval\u001b[0m\u001b[1;33m)\u001b[0m\u001b[1;33m\u001b[0m\u001b[1;33m\u001b[0m\u001b[0m\n\u001b[0m",
      "\u001b[1;31mOperationalError\u001b[0m: (1045, \"Access denied for user 'root'@'localhost' (using password: YES)\")"
     ]
    }
   ],
   "source": [
    "conn = pymysql.connect('127.0.0.1',\"root\",\"pass\",\"movies_db\" )"
   ]
  },
  {
   "cell_type": "code",
   "execution_count": 382,
   "metadata": {},
   "outputs": [
    {
     "ename": "AttributeError",
     "evalue": "'Engine' object has no attribute 'cursor'",
     "output_type": "error",
     "traceback": [
      "\u001b[1;31m---------------------------------------------------------------------------\u001b[0m",
      "\u001b[1;31mAttributeError\u001b[0m                            Traceback (most recent call last)",
      "\u001b[1;32m<ipython-input-382-4d52c75c0145>\u001b[0m in \u001b[0;36m<module>\u001b[1;34m\u001b[0m\n\u001b[1;32m----> 1\u001b[1;33m \u001b[0mcur\u001b[0m \u001b[1;33m=\u001b[0m \u001b[0mengine\u001b[0m\u001b[1;33m.\u001b[0m\u001b[0mcursor\u001b[0m\u001b[1;33m(\u001b[0m\u001b[1;33m)\u001b[0m\u001b[1;33m\u001b[0m\u001b[1;33m\u001b[0m\u001b[0m\n\u001b[0m",
      "\u001b[1;31mAttributeError\u001b[0m: 'Engine' object has no attribute 'cursor'"
     ]
    }
   ],
   "source": [
    "cur = engine.cursor()"
   ]
  },
  {
   "cell_type": "code",
   "execution_count": 377,
   "metadata": {},
   "outputs": [
    {
     "data": {
      "text/plain": [
       "1"
      ]
     },
     "execution_count": 377,
     "metadata": {},
     "output_type": "execute_result"
    }
   ],
   "source": [
    "cur.execute(\"CREATE DATABASE IF NOT EXISTS movies_db;\")"
   ]
  },
  {
   "cell_type": "code",
   "execution_count": 378,
   "metadata": {},
   "outputs": [
    {
     "name": "stdout",
     "output_type": "stream",
     "text": [
      "(('employees_db',),\n",
      " ('information_schema',),\n",
      " ('movies_db',),\n",
      " ('mydb',),\n",
      " ('mysql',),\n",
      " ('performance_schema',),\n",
      " ('sql_hr',),\n",
      " ('sql_inventory',),\n",
      " ('sql_invoicing',),\n",
      " ('sql_store',),\n",
      " ('sys',))\n"
     ]
    }
   ],
   "source": [
    "cur.execute(\"SHOW DATABASES;\")\n",
    "pprint(cur.fetchall())"
   ]
  },
  {
   "cell_type": "code",
   "execution_count": 379,
   "metadata": {},
   "outputs": [
    {
     "ename": "DatabaseError",
     "evalue": "Execution failed on sql 'SELECT name FROM sqlite_master WHERE type='table' AND name=?;': not all arguments converted during string formatting",
     "output_type": "error",
     "traceback": [
      "\u001b[1;31m---------------------------------------------------------------------------\u001b[0m",
      "\u001b[1;31mTypeError\u001b[0m                                 Traceback (most recent call last)",
      "\u001b[1;32m~\\anaconda3\\lib\\site-packages\\pandas\\io\\sql.py\u001b[0m in \u001b[0;36mexecute\u001b[1;34m(self, *args, **kwargs)\u001b[0m\n\u001b[0;32m   1585\u001b[0m         \u001b[1;32mtry\u001b[0m\u001b[1;33m:\u001b[0m\u001b[1;33m\u001b[0m\u001b[1;33m\u001b[0m\u001b[0m\n\u001b[1;32m-> 1586\u001b[1;33m             \u001b[0mcur\u001b[0m\u001b[1;33m.\u001b[0m\u001b[0mexecute\u001b[0m\u001b[1;33m(\u001b[0m\u001b[1;33m*\u001b[0m\u001b[0margs\u001b[0m\u001b[1;33m,\u001b[0m \u001b[1;33m**\u001b[0m\u001b[0mkwargs\u001b[0m\u001b[1;33m)\u001b[0m\u001b[1;33m\u001b[0m\u001b[1;33m\u001b[0m\u001b[0m\n\u001b[0m\u001b[0;32m   1587\u001b[0m             \u001b[1;32mreturn\u001b[0m \u001b[0mcur\u001b[0m\u001b[1;33m\u001b[0m\u001b[1;33m\u001b[0m\u001b[0m\n",
      "\u001b[1;32m~\\anaconda3\\lib\\site-packages\\pymysql\\cursors.py\u001b[0m in \u001b[0;36mexecute\u001b[1;34m(self, query, args)\u001b[0m\n\u001b[0;32m    160\u001b[0m \u001b[1;33m\u001b[0m\u001b[0m\n\u001b[1;32m--> 161\u001b[1;33m         \u001b[0mquery\u001b[0m \u001b[1;33m=\u001b[0m \u001b[0mself\u001b[0m\u001b[1;33m.\u001b[0m\u001b[0mmogrify\u001b[0m\u001b[1;33m(\u001b[0m\u001b[0mquery\u001b[0m\u001b[1;33m,\u001b[0m \u001b[0margs\u001b[0m\u001b[1;33m)\u001b[0m\u001b[1;33m\u001b[0m\u001b[1;33m\u001b[0m\u001b[0m\n\u001b[0m\u001b[0;32m    162\u001b[0m \u001b[1;33m\u001b[0m\u001b[0m\n",
      "\u001b[1;32m~\\anaconda3\\lib\\site-packages\\pymysql\\cursors.py\u001b[0m in \u001b[0;36mmogrify\u001b[1;34m(self, query, args)\u001b[0m\n\u001b[0;32m    139\u001b[0m         \u001b[1;32mif\u001b[0m \u001b[0margs\u001b[0m \u001b[1;32mis\u001b[0m \u001b[1;32mnot\u001b[0m \u001b[1;32mNone\u001b[0m\u001b[1;33m:\u001b[0m\u001b[1;33m\u001b[0m\u001b[1;33m\u001b[0m\u001b[0m\n\u001b[1;32m--> 140\u001b[1;33m             \u001b[0mquery\u001b[0m \u001b[1;33m=\u001b[0m \u001b[0mquery\u001b[0m \u001b[1;33m%\u001b[0m \u001b[0mself\u001b[0m\u001b[1;33m.\u001b[0m\u001b[0m_escape_args\u001b[0m\u001b[1;33m(\u001b[0m\u001b[0margs\u001b[0m\u001b[1;33m,\u001b[0m \u001b[0mconn\u001b[0m\u001b[1;33m)\u001b[0m\u001b[1;33m\u001b[0m\u001b[1;33m\u001b[0m\u001b[0m\n\u001b[0m\u001b[0;32m    141\u001b[0m \u001b[1;33m\u001b[0m\u001b[0m\n",
      "\u001b[1;31mTypeError\u001b[0m: not all arguments converted during string formatting",
      "\nThe above exception was the direct cause of the following exception:\n",
      "\u001b[1;31mDatabaseError\u001b[0m                             Traceback (most recent call last)",
      "\u001b[1;32m<ipython-input-379-ab24892b61bb>\u001b[0m in \u001b[0;36m<module>\u001b[1;34m\u001b[0m\n\u001b[1;32m----> 1\u001b[1;33m \u001b[0mdf_movies\u001b[0m\u001b[1;33m.\u001b[0m\u001b[0mto_sql\u001b[0m\u001b[1;33m(\u001b[0m\u001b[0mname\u001b[0m \u001b[1;33m=\u001b[0m \u001b[1;34m'movies_data'\u001b[0m\u001b[1;33m,\u001b[0m \u001b[0mcon\u001b[0m \u001b[1;33m=\u001b[0m \u001b[0mconn\u001b[0m\u001b[1;33m,\u001b[0m \u001b[0mif_exists\u001b[0m \u001b[1;33m=\u001b[0m \u001b[1;34m'replace'\u001b[0m\u001b[1;33m,\u001b[0m \u001b[0mindex\u001b[0m\u001b[1;33m=\u001b[0m \u001b[1;32mFalse\u001b[0m\u001b[1;33m)\u001b[0m\u001b[1;33m\u001b[0m\u001b[1;33m\u001b[0m\u001b[0m\n\u001b[0m",
      "\u001b[1;32m~\\anaconda3\\lib\\site-packages\\pandas\\core\\generic.py\u001b[0m in \u001b[0;36mto_sql\u001b[1;34m(self, name, con, schema, if_exists, index, index_label, chunksize, dtype, method)\u001b[0m\n\u001b[0;32m   2651\u001b[0m         \u001b[1;32mfrom\u001b[0m \u001b[0mpandas\u001b[0m\u001b[1;33m.\u001b[0m\u001b[0mio\u001b[0m \u001b[1;32mimport\u001b[0m \u001b[0msql\u001b[0m\u001b[1;33m\u001b[0m\u001b[1;33m\u001b[0m\u001b[0m\n\u001b[0;32m   2652\u001b[0m \u001b[1;33m\u001b[0m\u001b[0m\n\u001b[1;32m-> 2653\u001b[1;33m         sql.to_sql(\n\u001b[0m\u001b[0;32m   2654\u001b[0m             \u001b[0mself\u001b[0m\u001b[1;33m,\u001b[0m\u001b[1;33m\u001b[0m\u001b[1;33m\u001b[0m\u001b[0m\n\u001b[0;32m   2655\u001b[0m             \u001b[0mname\u001b[0m\u001b[1;33m,\u001b[0m\u001b[1;33m\u001b[0m\u001b[1;33m\u001b[0m\u001b[0m\n",
      "\u001b[1;32m~\\anaconda3\\lib\\site-packages\\pandas\\io\\sql.py\u001b[0m in \u001b[0;36mto_sql\u001b[1;34m(frame, name, con, schema, if_exists, index, index_label, chunksize, dtype, method)\u001b[0m\n\u001b[0;32m    510\u001b[0m         )\n\u001b[0;32m    511\u001b[0m \u001b[1;33m\u001b[0m\u001b[0m\n\u001b[1;32m--> 512\u001b[1;33m     pandas_sql.to_sql(\n\u001b[0m\u001b[0;32m    513\u001b[0m         \u001b[0mframe\u001b[0m\u001b[1;33m,\u001b[0m\u001b[1;33m\u001b[0m\u001b[1;33m\u001b[0m\u001b[0m\n\u001b[0;32m    514\u001b[0m         \u001b[0mname\u001b[0m\u001b[1;33m,\u001b[0m\u001b[1;33m\u001b[0m\u001b[1;33m\u001b[0m\u001b[0m\n",
      "\u001b[1;32m~\\anaconda3\\lib\\site-packages\\pandas\\io\\sql.py\u001b[0m in \u001b[0;36mto_sql\u001b[1;34m(self, frame, name, if_exists, index, index_label, schema, chunksize, dtype, method)\u001b[0m\n\u001b[0;32m   1731\u001b[0m             \u001b[0mdtype\u001b[0m\u001b[1;33m=\u001b[0m\u001b[0mdtype\u001b[0m\u001b[1;33m,\u001b[0m\u001b[1;33m\u001b[0m\u001b[1;33m\u001b[0m\u001b[0m\n\u001b[0;32m   1732\u001b[0m         )\n\u001b[1;32m-> 1733\u001b[1;33m         \u001b[0mtable\u001b[0m\u001b[1;33m.\u001b[0m\u001b[0mcreate\u001b[0m\u001b[1;33m(\u001b[0m\u001b[1;33m)\u001b[0m\u001b[1;33m\u001b[0m\u001b[1;33m\u001b[0m\u001b[0m\n\u001b[0m\u001b[0;32m   1734\u001b[0m         \u001b[0mtable\u001b[0m\u001b[1;33m.\u001b[0m\u001b[0minsert\u001b[0m\u001b[1;33m(\u001b[0m\u001b[0mchunksize\u001b[0m\u001b[1;33m,\u001b[0m \u001b[0mmethod\u001b[0m\u001b[1;33m)\u001b[0m\u001b[1;33m\u001b[0m\u001b[1;33m\u001b[0m\u001b[0m\n\u001b[0;32m   1735\u001b[0m \u001b[1;33m\u001b[0m\u001b[0m\n",
      "\u001b[1;32m~\\anaconda3\\lib\\site-packages\\pandas\\io\\sql.py\u001b[0m in \u001b[0;36mcreate\u001b[1;34m(self)\u001b[0m\n\u001b[0;32m    642\u001b[0m \u001b[1;33m\u001b[0m\u001b[0m\n\u001b[0;32m    643\u001b[0m     \u001b[1;32mdef\u001b[0m \u001b[0mcreate\u001b[0m\u001b[1;33m(\u001b[0m\u001b[0mself\u001b[0m\u001b[1;33m)\u001b[0m\u001b[1;33m:\u001b[0m\u001b[1;33m\u001b[0m\u001b[1;33m\u001b[0m\u001b[0m\n\u001b[1;32m--> 644\u001b[1;33m         \u001b[1;32mif\u001b[0m \u001b[0mself\u001b[0m\u001b[1;33m.\u001b[0m\u001b[0mexists\u001b[0m\u001b[1;33m(\u001b[0m\u001b[1;33m)\u001b[0m\u001b[1;33m:\u001b[0m\u001b[1;33m\u001b[0m\u001b[1;33m\u001b[0m\u001b[0m\n\u001b[0m\u001b[0;32m    645\u001b[0m             \u001b[1;32mif\u001b[0m \u001b[0mself\u001b[0m\u001b[1;33m.\u001b[0m\u001b[0mif_exists\u001b[0m \u001b[1;33m==\u001b[0m \u001b[1;34m\"fail\"\u001b[0m\u001b[1;33m:\u001b[0m\u001b[1;33m\u001b[0m\u001b[1;33m\u001b[0m\u001b[0m\n\u001b[0;32m    646\u001b[0m                 \u001b[1;32mraise\u001b[0m \u001b[0mValueError\u001b[0m\u001b[1;33m(\u001b[0m\u001b[1;34mf\"Table '{self.name}' already exists.\"\u001b[0m\u001b[1;33m)\u001b[0m\u001b[1;33m\u001b[0m\u001b[1;33m\u001b[0m\u001b[0m\n",
      "\u001b[1;32m~\\anaconda3\\lib\\site-packages\\pandas\\io\\sql.py\u001b[0m in \u001b[0;36mexists\u001b[1;34m(self)\u001b[0m\n\u001b[0;32m    629\u001b[0m \u001b[1;33m\u001b[0m\u001b[0m\n\u001b[0;32m    630\u001b[0m     \u001b[1;32mdef\u001b[0m \u001b[0mexists\u001b[0m\u001b[1;33m(\u001b[0m\u001b[0mself\u001b[0m\u001b[1;33m)\u001b[0m\u001b[1;33m:\u001b[0m\u001b[1;33m\u001b[0m\u001b[1;33m\u001b[0m\u001b[0m\n\u001b[1;32m--> 631\u001b[1;33m         \u001b[1;32mreturn\u001b[0m \u001b[0mself\u001b[0m\u001b[1;33m.\u001b[0m\u001b[0mpd_sql\u001b[0m\u001b[1;33m.\u001b[0m\u001b[0mhas_table\u001b[0m\u001b[1;33m(\u001b[0m\u001b[0mself\u001b[0m\u001b[1;33m.\u001b[0m\u001b[0mname\u001b[0m\u001b[1;33m,\u001b[0m \u001b[0mself\u001b[0m\u001b[1;33m.\u001b[0m\u001b[0mschema\u001b[0m\u001b[1;33m)\u001b[0m\u001b[1;33m\u001b[0m\u001b[1;33m\u001b[0m\u001b[0m\n\u001b[0m\u001b[0;32m    632\u001b[0m \u001b[1;33m\u001b[0m\u001b[0m\n\u001b[0;32m    633\u001b[0m     \u001b[1;32mdef\u001b[0m \u001b[0msql_schema\u001b[0m\u001b[1;33m(\u001b[0m\u001b[0mself\u001b[0m\u001b[1;33m)\u001b[0m\u001b[1;33m:\u001b[0m\u001b[1;33m\u001b[0m\u001b[1;33m\u001b[0m\u001b[0m\n",
      "\u001b[1;32m~\\anaconda3\\lib\\site-packages\\pandas\\io\\sql.py\u001b[0m in \u001b[0;36mhas_table\u001b[1;34m(self, name, schema)\u001b[0m\n\u001b[0;32m   1742\u001b[0m         \u001b[0mquery\u001b[0m \u001b[1;33m=\u001b[0m \u001b[1;34mf\"SELECT name FROM sqlite_master WHERE type='table' AND name={wld};\"\u001b[0m\u001b[1;33m\u001b[0m\u001b[1;33m\u001b[0m\u001b[0m\n\u001b[0;32m   1743\u001b[0m \u001b[1;33m\u001b[0m\u001b[0m\n\u001b[1;32m-> 1744\u001b[1;33m         \u001b[1;32mreturn\u001b[0m \u001b[0mlen\u001b[0m\u001b[1;33m(\u001b[0m\u001b[0mself\u001b[0m\u001b[1;33m.\u001b[0m\u001b[0mexecute\u001b[0m\u001b[1;33m(\u001b[0m\u001b[0mquery\u001b[0m\u001b[1;33m,\u001b[0m \u001b[1;33m[\u001b[0m\u001b[0mname\u001b[0m\u001b[1;33m]\u001b[0m\u001b[1;33m)\u001b[0m\u001b[1;33m.\u001b[0m\u001b[0mfetchall\u001b[0m\u001b[1;33m(\u001b[0m\u001b[1;33m)\u001b[0m\u001b[1;33m)\u001b[0m \u001b[1;33m>\u001b[0m \u001b[1;36m0\u001b[0m\u001b[1;33m\u001b[0m\u001b[1;33m\u001b[0m\u001b[0m\n\u001b[0m\u001b[0;32m   1745\u001b[0m \u001b[1;33m\u001b[0m\u001b[0m\n\u001b[0;32m   1746\u001b[0m     \u001b[1;32mdef\u001b[0m \u001b[0mget_table\u001b[0m\u001b[1;33m(\u001b[0m\u001b[0mself\u001b[0m\u001b[1;33m,\u001b[0m \u001b[0mtable_name\u001b[0m\u001b[1;33m,\u001b[0m \u001b[0mschema\u001b[0m\u001b[1;33m=\u001b[0m\u001b[1;32mNone\u001b[0m\u001b[1;33m)\u001b[0m\u001b[1;33m:\u001b[0m\u001b[1;33m\u001b[0m\u001b[1;33m\u001b[0m\u001b[0m\n",
      "\u001b[1;32m~\\anaconda3\\lib\\site-packages\\pandas\\io\\sql.py\u001b[0m in \u001b[0;36mexecute\u001b[1;34m(self, *args, **kwargs)\u001b[0m\n\u001b[0;32m   1596\u001b[0m \u001b[1;33m\u001b[0m\u001b[0m\n\u001b[0;32m   1597\u001b[0m             \u001b[0mex\u001b[0m \u001b[1;33m=\u001b[0m \u001b[0mDatabaseError\u001b[0m\u001b[1;33m(\u001b[0m\u001b[1;34mf\"Execution failed on sql '{args[0]}': {exc}\"\u001b[0m\u001b[1;33m)\u001b[0m\u001b[1;33m\u001b[0m\u001b[1;33m\u001b[0m\u001b[0m\n\u001b[1;32m-> 1598\u001b[1;33m             \u001b[1;32mraise\u001b[0m \u001b[0mex\u001b[0m \u001b[1;32mfrom\u001b[0m \u001b[0mexc\u001b[0m\u001b[1;33m\u001b[0m\u001b[1;33m\u001b[0m\u001b[0m\n\u001b[0m\u001b[0;32m   1599\u001b[0m \u001b[1;33m\u001b[0m\u001b[0m\n\u001b[0;32m   1600\u001b[0m     \u001b[1;33m@\u001b[0m\u001b[0mstaticmethod\u001b[0m\u001b[1;33m\u001b[0m\u001b[1;33m\u001b[0m\u001b[0m\n",
      "\u001b[1;31mDatabaseError\u001b[0m: Execution failed on sql 'SELECT name FROM sqlite_master WHERE type='table' AND name=?;': not all arguments converted during string formatting"
     ]
    }
   ],
   "source": [
    "df_movies.to_sql(name = 'movies_data', con = conn, if_exists = 'replace', index= False)"
   ]
  },
  {
   "cell_type": "code",
   "execution_count": null,
   "metadata": {},
   "outputs": [],
   "source": [
    "'production_companies','production_countries','spoken_languages'"
   ]
  },
  {
   "cell_type": "code",
   "execution_count": 271,
   "metadata": {},
   "outputs": [],
   "source": [
    "prod = df_movies[['production_companies']]"
   ]
  },
  {
   "cell_type": "code",
   "execution_count": 272,
   "metadata": {},
   "outputs": [
    {
     "data": {
      "text/html": [
       "<div>\n",
       "<style scoped>\n",
       "    .dataframe tbody tr th:only-of-type {\n",
       "        vertical-align: middle;\n",
       "    }\n",
       "\n",
       "    .dataframe tbody tr th {\n",
       "        vertical-align: top;\n",
       "    }\n",
       "\n",
       "    .dataframe thead th {\n",
       "        text-align: right;\n",
       "    }\n",
       "</style>\n",
       "<table border=\"1\" class=\"dataframe\">\n",
       "  <thead>\n",
       "    <tr style=\"text-align: right;\">\n",
       "      <th></th>\n",
       "      <th>production_companies</th>\n",
       "    </tr>\n",
       "  </thead>\n",
       "  <tbody>\n",
       "    <tr>\n",
       "      <th>0</th>\n",
       "      <td>[{'name': 'Pixar Animation Studios', 'id': 3}]</td>\n",
       "    </tr>\n",
       "    <tr>\n",
       "      <th>1</th>\n",
       "      <td>[{'name': 'TriStar Pictures', 'id': 559}, {'name': 'Teitler Film', 'id': 2550}, {'name': 'Interscope Communications', 'id': 10201}]</td>\n",
       "    </tr>\n",
       "    <tr>\n",
       "      <th>2</th>\n",
       "      <td>[{'name': 'Warner Bros.', 'id': 6194}, {'name': 'Lancaster Gate', 'id': 19464}]</td>\n",
       "    </tr>\n",
       "    <tr>\n",
       "      <th>3</th>\n",
       "      <td>[{'name': 'Twentieth Century Fox Film Corporation', 'id': 306}]</td>\n",
       "    </tr>\n",
       "    <tr>\n",
       "      <th>4</th>\n",
       "      <td>[{'name': 'Sandollar Productions', 'id': 5842}, {'name': 'Touchstone Pictures', 'id': 9195}]</td>\n",
       "    </tr>\n",
       "    <tr>\n",
       "      <th>...</th>\n",
       "      <td>...</td>\n",
       "    </tr>\n",
       "    <tr>\n",
       "      <th>6047</th>\n",
       "      <td>[{'name': 'Universal Pictures', 'id': 33}, {'name': 'Will Packer Productions', 'id': 49968}]</td>\n",
       "    </tr>\n",
       "    <tr>\n",
       "      <th>6048</th>\n",
       "      <td>[{'name': 'Metro-Goldwyn-Mayer (MGM)', 'id': 8411}, {'name': 'Annapurna Pictures', 'id': 13184}, {'name': 'First Light Production', 'id': 20344}]</td>\n",
       "    </tr>\n",
       "    <tr>\n",
       "      <th>6049</th>\n",
       "      <td>[{'name': 'Ingenious Media', 'id': 290}, {'name': 'Brookstreet Pictures', 'id': 3160}, {'name': 'The Fyzz Facility', 'id': 63443}, {'name': 'Emmett Furla Oasis Films (EFO Films)', 'id': 73685}, {'name': 'River Bay Films', 'id': 85562}, {'name': 'Kirk Shaw Productions', 'id': 95598}, {'name': 'Aboretum Productions', 'id': 95599}]</td>\n",
       "    </tr>\n",
       "    <tr>\n",
       "      <th>6050</th>\n",
       "      <td>[]</td>\n",
       "    </tr>\n",
       "    <tr>\n",
       "      <th>6051</th>\n",
       "      <td>[]</td>\n",
       "    </tr>\n",
       "  </tbody>\n",
       "</table>\n",
       "<p>6052 rows × 1 columns</p>\n",
       "</div>"
      ],
      "text/plain": [
       "                                                                                                                                                                                                                                                                                                                            production_companies\n",
       "0     [{'name': 'Pixar Animation Studios', 'id': 3}]                                                                                                                                                                                                                                                                                            \n",
       "1     [{'name': 'TriStar Pictures', 'id': 559}, {'name': 'Teitler Film', 'id': 2550}, {'name': 'Interscope Communications', 'id': 10201}]                                                                                                                                                                                                       \n",
       "2     [{'name': 'Warner Bros.', 'id': 6194}, {'name': 'Lancaster Gate', 'id': 19464}]                                                                                                                                                                                                                                                           \n",
       "3     [{'name': 'Twentieth Century Fox Film Corporation', 'id': 306}]                                                                                                                                                                                                                                                                           \n",
       "4     [{'name': 'Sandollar Productions', 'id': 5842}, {'name': 'Touchstone Pictures', 'id': 9195}]                                                                                                                                                                                                                                              \n",
       "...                                                                                            ...                                                                                                                                                                                                                                              \n",
       "6047  [{'name': 'Universal Pictures', 'id': 33}, {'name': 'Will Packer Productions', 'id': 49968}]                                                                                                                                                                                                                                              \n",
       "6048  [{'name': 'Metro-Goldwyn-Mayer (MGM)', 'id': 8411}, {'name': 'Annapurna Pictures', 'id': 13184}, {'name': 'First Light Production', 'id': 20344}]                                                                                                                                                                                         \n",
       "6049  [{'name': 'Ingenious Media', 'id': 290}, {'name': 'Brookstreet Pictures', 'id': 3160}, {'name': 'The Fyzz Facility', 'id': 63443}, {'name': 'Emmett Furla Oasis Films (EFO Films)', 'id': 73685}, {'name': 'River Bay Films', 'id': 85562}, {'name': 'Kirk Shaw Productions', 'id': 95598}, {'name': 'Aboretum Productions', 'id': 95599}]\n",
       "6050  []                                                                                                                                                                                                                                                                                                                                        \n",
       "6051  []                                                                                                                                                                                                                                                                                                                                        \n",
       "\n",
       "[6052 rows x 1 columns]"
      ]
     },
     "execution_count": 272,
     "metadata": {},
     "output_type": "execute_result"
    }
   ],
   "source": [
    "prod"
   ]
  },
  {
   "cell_type": "code",
   "execution_count": 328,
   "metadata": {},
   "outputs": [
    {
     "data": {
      "text/plain": [
       "0    [English]         \n",
       "1    [English, Fran]   \n",
       "2    [English]         \n",
       "3    [English]         \n",
       "4    [English]         \n",
       "5    [English, Espa]   \n",
       "6    [Fran, English]   \n",
       "7    [English, Deutsch]\n",
       "8    [English]         \n",
       "9    [English]         \n",
       "Name: spoken_languages, dtype: object"
      ]
     },
     "execution_count": 328,
     "metadata": {},
     "output_type": "execute_result"
    }
   ],
   "source": [
    "df_movies['spoken_languages'].str.findall(r'name\\'\\:\\s\\'([a-zA-z() ]+)')"
   ]
  },
  {
   "cell_type": "code",
   "execution_count": null,
   "metadata": {},
   "outputs": [],
   "source": []
  },
  {
   "cell_type": "code",
   "execution_count": null,
   "metadata": {},
   "outputs": [],
   "source": []
  },
  {
   "cell_type": "code",
   "execution_count": null,
   "metadata": {},
   "outputs": [],
   "source": []
  },
  {
   "cell_type": "code",
   "execution_count": 224,
   "metadata": {},
   "outputs": [
    {
     "ename": "AttributeError",
     "evalue": "'str' object has no attribute 'apply'",
     "output_type": "error",
     "traceback": [
      "\u001b[1;31m---------------------------------------------------------------------------\u001b[0m",
      "\u001b[1;31mAttributeError\u001b[0m                            Traceback (most recent call last)",
      "\u001b[1;32m<ipython-input-224-1049931783a7>\u001b[0m in \u001b[0;36m<module>\u001b[1;34m\u001b[0m\n\u001b[1;32m----> 1\u001b[1;33m \u001b[0mdf_movies\u001b[0m\u001b[1;33m[\u001b[0m\u001b[1;34m'production_companies'\u001b[0m\u001b[1;33m]\u001b[0m\u001b[1;33m[\u001b[0m\u001b[1;36m0\u001b[0m\u001b[1;33m]\u001b[0m\u001b[1;33m.\u001b[0m\u001b[0mapply\u001b[0m\u001b[1;33m(\u001b[0m\u001b[1;32mlambda\u001b[0m \u001b[0mx\u001b[0m\u001b[1;33m:\u001b[0m \u001b[0mprint\u001b[0m\u001b[1;33m(\u001b[0m\u001b[1;34m'yes'\u001b[0m\u001b[1;33m)\u001b[0m \u001b[1;32mif\u001b[0m \u001b[0mtype\u001b[0m\u001b[1;33m(\u001b[0m\u001b[0mx\u001b[0m\u001b[1;33m)\u001b[0m \u001b[1;33m==\u001b[0m \u001b[0mdict\u001b[0m \u001b[1;32melse\u001b[0m \u001b[0mx\u001b[0m\u001b[1;33m)\u001b[0m\u001b[1;33m\u001b[0m\u001b[1;33m\u001b[0m\u001b[0m\n\u001b[0m",
      "\u001b[1;31mAttributeError\u001b[0m: 'str' object has no attribute 'apply'"
     ]
    }
   ],
   "source": [
    "df_movies['production_companies'][0].apply(lambda x: print('yes') if type(x) == dict else x)"
   ]
  },
  {
   "cell_type": "code",
   "execution_count": 226,
   "metadata": {},
   "outputs": [
    {
     "name": "stdout",
     "output_type": "stream",
     "text": [
      "<class 'pandas.core.frame.DataFrame'>\n",
      "Int64Index: 6052 entries, 0 to 6051\n",
      "Data columns (total 3 columns):\n",
      " #   Column                Non-Null Count  Dtype \n",
      "---  ------                --------------  ----- \n",
      " 0   production_companies  6052 non-null   object\n",
      " 1   production_countries  6052 non-null   object\n",
      " 2   spoken_languages      6052 non-null   object\n",
      "dtypes: object(3)\n",
      "memory usage: 349.1+ KB\n"
     ]
    }
   ],
   "source": [
    "df_movies[['production_companies','production_countries','spoken_languages']].info()"
   ]
  },
  {
   "cell_type": "code",
   "execution_count": null,
   "metadata": {},
   "outputs": [],
   "source": []
  }
 ],
 "metadata": {
  "kernelspec": {
   "display_name": "Python 3",
   "language": "python",
   "name": "python3"
  },
  "language_info": {
   "codemirror_mode": {
    "name": "ipython",
    "version": 3
   },
   "file_extension": ".py",
   "mimetype": "text/x-python",
   "name": "python",
   "nbconvert_exporter": "python",
   "pygments_lexer": "ipython3",
   "version": "3.8.3"
  }
 },
 "nbformat": 4,
 "nbformat_minor": 4
}
