{
 "cells": [
  {
   "cell_type": "code",
   "execution_count": 117,
   "metadata": {},
   "outputs": [],
   "source": [
    "# Import dependencies\n",
    "import pandas as pd\n",
    "import numpy as np\n",
    "import json\n",
    "import re\n",
    "\n",
    "import warnings\n",
    "warnings.filterwarnings(\"ignore\")"
   ]
  },
  {
   "cell_type": "markdown",
   "metadata": {},
   "source": [
    "# 1. Extract"
   ]
  },
  {
   "cell_type": "code",
   "execution_count": 142,
   "metadata": {},
   "outputs": [
    {
     "data": {
      "text/html": [
       "<div>\n",
       "<style scoped>\n",
       "    .dataframe tbody tr th:only-of-type {\n",
       "        vertical-align: middle;\n",
       "    }\n",
       "\n",
       "    .dataframe tbody tr th {\n",
       "        vertical-align: top;\n",
       "    }\n",
       "\n",
       "    .dataframe thead th {\n",
       "        text-align: right;\n",
       "    }\n",
       "</style>\n",
       "<table border=\"1\" class=\"dataframe\">\n",
       "  <thead>\n",
       "    <tr style=\"text-align: right;\">\n",
       "      <th></th>\n",
       "      <th>userId</th>\n",
       "      <th>movieId</th>\n",
       "      <th>rating</th>\n",
       "      <th>timestamp</th>\n",
       "    </tr>\n",
       "  </thead>\n",
       "  <tbody>\n",
       "    <tr>\n",
       "      <th>0</th>\n",
       "      <td>1</td>\n",
       "      <td>31</td>\n",
       "      <td>2.5</td>\n",
       "      <td>1260759144</td>\n",
       "    </tr>\n",
       "    <tr>\n",
       "      <th>1</th>\n",
       "      <td>1</td>\n",
       "      <td>1029</td>\n",
       "      <td>3.0</td>\n",
       "      <td>1260759179</td>\n",
       "    </tr>\n",
       "    <tr>\n",
       "      <th>2</th>\n",
       "      <td>1</td>\n",
       "      <td>1061</td>\n",
       "      <td>3.0</td>\n",
       "      <td>1260759182</td>\n",
       "    </tr>\n",
       "    <tr>\n",
       "      <th>3</th>\n",
       "      <td>1</td>\n",
       "      <td>1129</td>\n",
       "      <td>2.0</td>\n",
       "      <td>1260759185</td>\n",
       "    </tr>\n",
       "    <tr>\n",
       "      <th>4</th>\n",
       "      <td>1</td>\n",
       "      <td>1172</td>\n",
       "      <td>4.0</td>\n",
       "      <td>1260759205</td>\n",
       "    </tr>\n",
       "  </tbody>\n",
       "</table>\n",
       "</div>"
      ],
      "text/plain": [
       "   userId  movieId  rating   timestamp\n",
       "0       1       31     2.5  1260759144\n",
       "1       1     1029     3.0  1260759179\n",
       "2       1     1061     3.0  1260759182\n",
       "3       1     1129     2.0  1260759185\n",
       "4       1     1172     4.0  1260759205"
      ]
     },
     "execution_count": 142,
     "metadata": {},
     "output_type": "execute_result"
    }
   ],
   "source": [
    "# Reading the movies_ratings csv file\n",
    "df_ratings = pd.read_csv(r'Resources/movies_ratings.csv')\n",
    "df_ratings.head()"
   ]
  },
  {
   "cell_type": "code",
   "execution_count": 143,
   "metadata": {},
   "outputs": [
    {
     "data": {
      "text/html": [
       "<div>\n",
       "<style scoped>\n",
       "    .dataframe tbody tr th:only-of-type {\n",
       "        vertical-align: middle;\n",
       "    }\n",
       "\n",
       "    .dataframe tbody tr th {\n",
       "        vertical-align: top;\n",
       "    }\n",
       "\n",
       "    .dataframe thead th {\n",
       "        text-align: right;\n",
       "    }\n",
       "</style>\n",
       "<table border=\"1\" class=\"dataframe\">\n",
       "  <thead>\n",
       "    <tr style=\"text-align: right;\">\n",
       "      <th></th>\n",
       "      <th>adult</th>\n",
       "      <th>belongs_to_collection</th>\n",
       "      <th>budget</th>\n",
       "      <th>genres</th>\n",
       "      <th>homepage</th>\n",
       "      <th>id</th>\n",
       "      <th>imdb_id</th>\n",
       "      <th>original_language</th>\n",
       "      <th>original_title</th>\n",
       "      <th>overview</th>\n",
       "      <th>...</th>\n",
       "      <th>release_date</th>\n",
       "      <th>revenue</th>\n",
       "      <th>runtime</th>\n",
       "      <th>spoken_languages</th>\n",
       "      <th>status</th>\n",
       "      <th>tagline</th>\n",
       "      <th>title</th>\n",
       "      <th>video</th>\n",
       "      <th>vote_average</th>\n",
       "      <th>vote_count</th>\n",
       "    </tr>\n",
       "  </thead>\n",
       "  <tbody>\n",
       "    <tr>\n",
       "      <th>26659</th>\n",
       "      <td>False</td>\n",
       "      <td>NaN</td>\n",
       "      <td>0</td>\n",
       "      <td>[{'id': 36, 'name': 'History'}, {'id': 18, 'na...</td>\n",
       "      <td>NaN</td>\n",
       "      <td>87115</td>\n",
       "      <td>tt0029087</td>\n",
       "      <td>en</td>\n",
       "      <td>Knight Without Armour</td>\n",
       "      <td>British agent working in Russia is forced to r...</td>\n",
       "      <td>...</td>\n",
       "      <td>1937-07-23</td>\n",
       "      <td>0.0</td>\n",
       "      <td>100.0</td>\n",
       "      <td>[{'iso_639_1': 'en', 'name': 'English'}]</td>\n",
       "      <td>Released</td>\n",
       "      <td>The woman of flame -- the man of steel -- toge...</td>\n",
       "      <td>Knight Without Armour</td>\n",
       "      <td>False</td>\n",
       "      <td>5.3</td>\n",
       "      <td>3.0</td>\n",
       "    </tr>\n",
       "    <tr>\n",
       "      <th>44580</th>\n",
       "      <td>False</td>\n",
       "      <td>NaN</td>\n",
       "      <td>5300000</td>\n",
       "      <td>[{'id': 28, 'name': 'Action'}, {'id': 18, 'nam...</td>\n",
       "      <td>NaN</td>\n",
       "      <td>8453</td>\n",
       "      <td>tt0439662</td>\n",
       "      <td>hi</td>\n",
       "      <td>Fanaa</td>\n",
       "      <td>Zooni Ali Beg (Kajol) is a blind Kashmiri girl...</td>\n",
       "      <td>...</td>\n",
       "      <td>2006-05-26</td>\n",
       "      <td>22175908.0</td>\n",
       "      <td>168.0</td>\n",
       "      <td>[{'iso_639_1': 'hi', 'name': 'हिन्दी'}, {'iso_...</td>\n",
       "      <td>Released</td>\n",
       "      <td>Destroyed in love...</td>\n",
       "      <td>Fanaa</td>\n",
       "      <td>False</td>\n",
       "      <td>6.7</td>\n",
       "      <td>53.0</td>\n",
       "    </tr>\n",
       "  </tbody>\n",
       "</table>\n",
       "<p>2 rows × 24 columns</p>\n",
       "</div>"
      ],
      "text/plain": [
       "       adult belongs_to_collection   budget  \\\n",
       "26659  False                   NaN        0   \n",
       "44580  False                   NaN  5300000   \n",
       "\n",
       "                                                  genres homepage     id  \\\n",
       "26659  [{'id': 36, 'name': 'History'}, {'id': 18, 'na...      NaN  87115   \n",
       "44580  [{'id': 28, 'name': 'Action'}, {'id': 18, 'nam...      NaN   8453   \n",
       "\n",
       "         imdb_id original_language         original_title  \\\n",
       "26659  tt0029087                en  Knight Without Armour   \n",
       "44580  tt0439662                hi                  Fanaa   \n",
       "\n",
       "                                                overview  ... release_date  \\\n",
       "26659  British agent working in Russia is forced to r...  ...   1937-07-23   \n",
       "44580  Zooni Ali Beg (Kajol) is a blind Kashmiri girl...  ...   2006-05-26   \n",
       "\n",
       "          revenue runtime                                   spoken_languages  \\\n",
       "26659         0.0   100.0           [{'iso_639_1': 'en', 'name': 'English'}]   \n",
       "44580  22175908.0   168.0  [{'iso_639_1': 'hi', 'name': 'हिन्दी'}, {'iso_...   \n",
       "\n",
       "         status                                            tagline  \\\n",
       "26659  Released  The woman of flame -- the man of steel -- toge...   \n",
       "44580  Released                               Destroyed in love...   \n",
       "\n",
       "                       title  video vote_average vote_count  \n",
       "26659  Knight Without Armour  False          5.3        3.0  \n",
       "44580                  Fanaa  False          6.7       53.0  \n",
       "\n",
       "[2 rows x 24 columns]"
      ]
     },
     "execution_count": 143,
     "metadata": {},
     "output_type": "execute_result"
    }
   ],
   "source": [
    "# Reading the movies_metadata csv file\n",
    "df_movies = pd.read_csv(r'Resources\\movies_metadata.csv')\n",
    "df_movies.sample(2)"
   ]
  },
  {
   "cell_type": "code",
   "execution_count": 144,
   "metadata": {},
   "outputs": [
    {
     "data": {
      "text/plain": [
       "7311"
      ]
     },
     "execution_count": 144,
     "metadata": {},
     "output_type": "execute_result"
    }
   ],
   "source": [
    "# Reading the wikipedia-movies json file\n",
    "with open(r'Resources/wikipedia-movies.json',mode='r') as file:\n",
    "    movies_wiki_raw = json.load(file)\n",
    "len(movies_wiki_raw)"
   ]
  },
  {
   "cell_type": "markdown",
   "metadata": {},
   "source": [
    "# 2. Tranform"
   ]
  },
  {
   "cell_type": "code",
   "execution_count": 145,
   "metadata": {},
   "outputs": [
    {
     "data": {
      "text/plain": [
       "(100004, 4)"
      ]
     },
     "execution_count": 145,
     "metadata": {},
     "output_type": "execute_result"
    }
   ],
   "source": [
    "df_ratings.shape"
   ]
  },
  {
   "cell_type": "code",
   "execution_count": 146,
   "metadata": {},
   "outputs": [
    {
     "data": {
      "text/plain": [
       "userId       0\n",
       "movieId      0\n",
       "rating       0\n",
       "timestamp    0\n",
       "dtype: int64"
      ]
     },
     "execution_count": 146,
     "metadata": {},
     "output_type": "execute_result"
    }
   ],
   "source": [
    "df_ratings.isnull().sum()"
   ]
  },
  {
   "cell_type": "code",
   "execution_count": 147,
   "metadata": {},
   "outputs": [],
   "source": [
    "df_ratings['timestamp'] = pd.to_datetime(df_ratings['timestamp'], unit = 's')"
   ]
  },
  {
   "cell_type": "code",
   "execution_count": 148,
   "metadata": {},
   "outputs": [
    {
     "data": {
      "text/html": [
       "<div>\n",
       "<style scoped>\n",
       "    .dataframe tbody tr th:only-of-type {\n",
       "        vertical-align: middle;\n",
       "    }\n",
       "\n",
       "    .dataframe tbody tr th {\n",
       "        vertical-align: top;\n",
       "    }\n",
       "\n",
       "    .dataframe thead th {\n",
       "        text-align: right;\n",
       "    }\n",
       "</style>\n",
       "<table border=\"1\" class=\"dataframe\">\n",
       "  <thead>\n",
       "    <tr style=\"text-align: right;\">\n",
       "      <th></th>\n",
       "      <th>userId</th>\n",
       "      <th>movieId</th>\n",
       "      <th>rating</th>\n",
       "      <th>timestamp</th>\n",
       "    </tr>\n",
       "  </thead>\n",
       "  <tbody>\n",
       "    <tr>\n",
       "      <th>0</th>\n",
       "      <td>1</td>\n",
       "      <td>31</td>\n",
       "      <td>2.5</td>\n",
       "      <td>2009-12-14 02:52:24</td>\n",
       "    </tr>\n",
       "    <tr>\n",
       "      <th>1</th>\n",
       "      <td>1</td>\n",
       "      <td>1029</td>\n",
       "      <td>3.0</td>\n",
       "      <td>2009-12-14 02:52:59</td>\n",
       "    </tr>\n",
       "    <tr>\n",
       "      <th>2</th>\n",
       "      <td>1</td>\n",
       "      <td>1061</td>\n",
       "      <td>3.0</td>\n",
       "      <td>2009-12-14 02:53:02</td>\n",
       "    </tr>\n",
       "    <tr>\n",
       "      <th>3</th>\n",
       "      <td>1</td>\n",
       "      <td>1129</td>\n",
       "      <td>2.0</td>\n",
       "      <td>2009-12-14 02:53:05</td>\n",
       "    </tr>\n",
       "    <tr>\n",
       "      <th>4</th>\n",
       "      <td>1</td>\n",
       "      <td>1172</td>\n",
       "      <td>4.0</td>\n",
       "      <td>2009-12-14 02:53:25</td>\n",
       "    </tr>\n",
       "  </tbody>\n",
       "</table>\n",
       "</div>"
      ],
      "text/plain": [
       "   userId  movieId  rating           timestamp\n",
       "0       1       31     2.5 2009-12-14 02:52:24\n",
       "1       1     1029     3.0 2009-12-14 02:52:59\n",
       "2       1     1061     3.0 2009-12-14 02:53:02\n",
       "3       1     1129     2.0 2009-12-14 02:53:05\n",
       "4       1     1172     4.0 2009-12-14 02:53:25"
      ]
     },
     "execution_count": 148,
     "metadata": {},
     "output_type": "execute_result"
    }
   ],
   "source": [
    "df_ratings.head()"
   ]
  },
  {
   "cell_type": "code",
   "execution_count": 149,
   "metadata": {},
   "outputs": [
    {
     "data": {
      "text/html": [
       "<div>\n",
       "<style scoped>\n",
       "    .dataframe tbody tr th:only-of-type {\n",
       "        vertical-align: middle;\n",
       "    }\n",
       "\n",
       "    .dataframe tbody tr th {\n",
       "        vertical-align: top;\n",
       "    }\n",
       "\n",
       "    .dataframe thead th {\n",
       "        text-align: right;\n",
       "    }\n",
       "</style>\n",
       "<table border=\"1\" class=\"dataframe\">\n",
       "  <thead>\n",
       "    <tr style=\"text-align: right;\">\n",
       "      <th></th>\n",
       "      <th>adult</th>\n",
       "      <th>belongs_to_collection</th>\n",
       "      <th>budget</th>\n",
       "      <th>genres</th>\n",
       "      <th>homepage</th>\n",
       "      <th>id</th>\n",
       "      <th>imdb_id</th>\n",
       "      <th>original_language</th>\n",
       "      <th>original_title</th>\n",
       "      <th>overview</th>\n",
       "      <th>...</th>\n",
       "      <th>release_date</th>\n",
       "      <th>revenue</th>\n",
       "      <th>runtime</th>\n",
       "      <th>spoken_languages</th>\n",
       "      <th>status</th>\n",
       "      <th>tagline</th>\n",
       "      <th>title</th>\n",
       "      <th>video</th>\n",
       "      <th>vote_average</th>\n",
       "      <th>vote_count</th>\n",
       "    </tr>\n",
       "  </thead>\n",
       "  <tbody>\n",
       "    <tr>\n",
       "      <th>25143</th>\n",
       "      <td>False</td>\n",
       "      <td>NaN</td>\n",
       "      <td>0</td>\n",
       "      <td>[{'id': 18, 'name': 'Drama'}, {'id': 53, 'name...</td>\n",
       "      <td>NaN</td>\n",
       "      <td>72892</td>\n",
       "      <td>tt0134633</td>\n",
       "      <td>ru</td>\n",
       "      <td>Ekipazh</td>\n",
       "      <td>Story of the lives of three Soviet pilots who ...</td>\n",
       "      <td>...</td>\n",
       "      <td>1979-05-19</td>\n",
       "      <td>0.0</td>\n",
       "      <td>144.0</td>\n",
       "      <td>[{'iso_639_1': 'ru', 'name': 'Pусский'}]</td>\n",
       "      <td>Released</td>\n",
       "      <td>NaN</td>\n",
       "      <td>Air Crew</td>\n",
       "      <td>False</td>\n",
       "      <td>5.8</td>\n",
       "      <td>8.0</td>\n",
       "    </tr>\n",
       "    <tr>\n",
       "      <th>43332</th>\n",
       "      <td>False</td>\n",
       "      <td>NaN</td>\n",
       "      <td>0</td>\n",
       "      <td>[{'id': 35, 'name': 'Comedy'}, {'id': 18, 'nam...</td>\n",
       "      <td>NaN</td>\n",
       "      <td>375898</td>\n",
       "      <td>tt4313608</td>\n",
       "      <td>fr</td>\n",
       "      <td>Paris-Willouby</td>\n",
       "      <td>Claire and Maurice have to take the whole fami...</td>\n",
       "      <td>...</td>\n",
       "      <td>2016-01-20</td>\n",
       "      <td>0.0</td>\n",
       "      <td>83.0</td>\n",
       "      <td>[{'iso_639_1': 'fr', 'name': 'Français'}]</td>\n",
       "      <td>Released</td>\n",
       "      <td>NaN</td>\n",
       "      <td>Meet the Guilbys</td>\n",
       "      <td>False</td>\n",
       "      <td>5.2</td>\n",
       "      <td>14.0</td>\n",
       "    </tr>\n",
       "  </tbody>\n",
       "</table>\n",
       "<p>2 rows × 24 columns</p>\n",
       "</div>"
      ],
      "text/plain": [
       "       adult belongs_to_collection budget  \\\n",
       "25143  False                   NaN      0   \n",
       "43332  False                   NaN      0   \n",
       "\n",
       "                                                  genres homepage      id  \\\n",
       "25143  [{'id': 18, 'name': 'Drama'}, {'id': 53, 'name...      NaN   72892   \n",
       "43332  [{'id': 35, 'name': 'Comedy'}, {'id': 18, 'nam...      NaN  375898   \n",
       "\n",
       "         imdb_id original_language  original_title  \\\n",
       "25143  tt0134633                ru         Ekipazh   \n",
       "43332  tt4313608                fr  Paris-Willouby   \n",
       "\n",
       "                                                overview  ... release_date  \\\n",
       "25143  Story of the lives of three Soviet pilots who ...  ...   1979-05-19   \n",
       "43332  Claire and Maurice have to take the whole fami...  ...   2016-01-20   \n",
       "\n",
       "      revenue runtime                           spoken_languages    status  \\\n",
       "25143     0.0   144.0   [{'iso_639_1': 'ru', 'name': 'Pусский'}]  Released   \n",
       "43332     0.0    83.0  [{'iso_639_1': 'fr', 'name': 'Français'}]  Released   \n",
       "\n",
       "       tagline             title  video vote_average vote_count  \n",
       "25143      NaN          Air Crew  False          5.8        8.0  \n",
       "43332      NaN  Meet the Guilbys  False          5.2       14.0  \n",
       "\n",
       "[2 rows x 24 columns]"
      ]
     },
     "execution_count": 149,
     "metadata": {},
     "output_type": "execute_result"
    }
   ],
   "source": [
    "df_movies.sample(2)"
   ]
  },
  {
   "cell_type": "code",
   "execution_count": 150,
   "metadata": {},
   "outputs": [
    {
     "data": {
      "text/plain": [
       "Index(['adult', 'belongs_to_collection', 'budget', 'genres', 'homepage', 'id',\n",
       "       'imdb_id', 'original_language', 'original_title', 'overview',\n",
       "       'popularity', 'poster_path', 'production_companies',\n",
       "       'production_countries', 'release_date', 'revenue', 'runtime',\n",
       "       'spoken_languages', 'status', 'tagline', 'title', 'video',\n",
       "       'vote_average', 'vote_count'],\n",
       "      dtype='object')"
      ]
     },
     "execution_count": 150,
     "metadata": {},
     "output_type": "execute_result"
    }
   ],
   "source": [
    "df_movies.columns"
   ]
  },
  {
   "cell_type": "code",
   "execution_count": 151,
   "metadata": {},
   "outputs": [
    {
     "data": {
      "text/plain": [
       "(45466, 24)"
      ]
     },
     "execution_count": 151,
     "metadata": {},
     "output_type": "execute_result"
    }
   ],
   "source": [
    "df_movies.shape"
   ]
  },
  {
   "cell_type": "code",
   "execution_count": 152,
   "metadata": {},
   "outputs": [
    {
     "data": {
      "text/html": [
       "<div>\n",
       "<style scoped>\n",
       "    .dataframe tbody tr th:only-of-type {\n",
       "        vertical-align: middle;\n",
       "    }\n",
       "\n",
       "    .dataframe tbody tr th {\n",
       "        vertical-align: top;\n",
       "    }\n",
       "\n",
       "    .dataframe thead th {\n",
       "        text-align: right;\n",
       "    }\n",
       "</style>\n",
       "<table border=\"1\" class=\"dataframe\">\n",
       "  <thead>\n",
       "    <tr style=\"text-align: right;\">\n",
       "      <th></th>\n",
       "      <th>Total</th>\n",
       "      <th>Percent</th>\n",
       "    </tr>\n",
       "  </thead>\n",
       "  <tbody>\n",
       "    <tr>\n",
       "      <th>adult</th>\n",
       "      <td>0</td>\n",
       "      <td>0.000000</td>\n",
       "    </tr>\n",
       "    <tr>\n",
       "      <th>belongs_to_collection</th>\n",
       "      <td>40972</td>\n",
       "      <td>90.115691</td>\n",
       "    </tr>\n",
       "    <tr>\n",
       "      <th>budget</th>\n",
       "      <td>0</td>\n",
       "      <td>0.000000</td>\n",
       "    </tr>\n",
       "    <tr>\n",
       "      <th>genres</th>\n",
       "      <td>0</td>\n",
       "      <td>0.000000</td>\n",
       "    </tr>\n",
       "    <tr>\n",
       "      <th>homepage</th>\n",
       "      <td>37684</td>\n",
       "      <td>82.883913</td>\n",
       "    </tr>\n",
       "    <tr>\n",
       "      <th>id</th>\n",
       "      <td>0</td>\n",
       "      <td>0.000000</td>\n",
       "    </tr>\n",
       "    <tr>\n",
       "      <th>imdb_id</th>\n",
       "      <td>17</td>\n",
       "      <td>0.037391</td>\n",
       "    </tr>\n",
       "    <tr>\n",
       "      <th>original_language</th>\n",
       "      <td>11</td>\n",
       "      <td>0.024194</td>\n",
       "    </tr>\n",
       "    <tr>\n",
       "      <th>original_title</th>\n",
       "      <td>0</td>\n",
       "      <td>0.000000</td>\n",
       "    </tr>\n",
       "    <tr>\n",
       "      <th>overview</th>\n",
       "      <td>954</td>\n",
       "      <td>2.098271</td>\n",
       "    </tr>\n",
       "    <tr>\n",
       "      <th>popularity</th>\n",
       "      <td>5</td>\n",
       "      <td>0.010997</td>\n",
       "    </tr>\n",
       "    <tr>\n",
       "      <th>poster_path</th>\n",
       "      <td>386</td>\n",
       "      <td>0.848986</td>\n",
       "    </tr>\n",
       "    <tr>\n",
       "      <th>production_companies</th>\n",
       "      <td>3</td>\n",
       "      <td>0.006598</td>\n",
       "    </tr>\n",
       "    <tr>\n",
       "      <th>production_countries</th>\n",
       "      <td>3</td>\n",
       "      <td>0.006598</td>\n",
       "    </tr>\n",
       "    <tr>\n",
       "      <th>release_date</th>\n",
       "      <td>87</td>\n",
       "      <td>0.191352</td>\n",
       "    </tr>\n",
       "    <tr>\n",
       "      <th>revenue</th>\n",
       "      <td>6</td>\n",
       "      <td>0.013197</td>\n",
       "    </tr>\n",
       "    <tr>\n",
       "      <th>runtime</th>\n",
       "      <td>263</td>\n",
       "      <td>0.578454</td>\n",
       "    </tr>\n",
       "    <tr>\n",
       "      <th>spoken_languages</th>\n",
       "      <td>6</td>\n",
       "      <td>0.013197</td>\n",
       "    </tr>\n",
       "    <tr>\n",
       "      <th>status</th>\n",
       "      <td>87</td>\n",
       "      <td>0.191352</td>\n",
       "    </tr>\n",
       "    <tr>\n",
       "      <th>tagline</th>\n",
       "      <td>25054</td>\n",
       "      <td>55.104914</td>\n",
       "    </tr>\n",
       "    <tr>\n",
       "      <th>title</th>\n",
       "      <td>6</td>\n",
       "      <td>0.013197</td>\n",
       "    </tr>\n",
       "    <tr>\n",
       "      <th>video</th>\n",
       "      <td>6</td>\n",
       "      <td>0.013197</td>\n",
       "    </tr>\n",
       "    <tr>\n",
       "      <th>vote_average</th>\n",
       "      <td>6</td>\n",
       "      <td>0.013197</td>\n",
       "    </tr>\n",
       "    <tr>\n",
       "      <th>vote_count</th>\n",
       "      <td>6</td>\n",
       "      <td>0.013197</td>\n",
       "    </tr>\n",
       "  </tbody>\n",
       "</table>\n",
       "</div>"
      ],
      "text/plain": [
       "                       Total    Percent\n",
       "adult                      0   0.000000\n",
       "belongs_to_collection  40972  90.115691\n",
       "budget                     0   0.000000\n",
       "genres                     0   0.000000\n",
       "homepage               37684  82.883913\n",
       "id                         0   0.000000\n",
       "imdb_id                   17   0.037391\n",
       "original_language         11   0.024194\n",
       "original_title             0   0.000000\n",
       "overview                 954   2.098271\n",
       "popularity                 5   0.010997\n",
       "poster_path              386   0.848986\n",
       "production_companies       3   0.006598\n",
       "production_countries       3   0.006598\n",
       "release_date              87   0.191352\n",
       "revenue                    6   0.013197\n",
       "runtime                  263   0.578454\n",
       "spoken_languages           6   0.013197\n",
       "status                    87   0.191352\n",
       "tagline                25054  55.104914\n",
       "title                      6   0.013197\n",
       "video                      6   0.013197\n",
       "vote_average               6   0.013197\n",
       "vote_count                 6   0.013197"
      ]
     },
     "execution_count": 152,
     "metadata": {},
     "output_type": "execute_result"
    }
   ],
   "source": [
    "# Checking null values percentage\n",
    "percent = df_movies.isnull().sum()*100/len(df_movies)\n",
    "total = df_movies.isnull().sum()\n",
    "movies_null = pd.DataFrame({'Total':total, 'Percent':percent})\n",
    "movies_null"
   ]
  },
  {
   "cell_type": "code",
   "execution_count": 153,
   "metadata": {},
   "outputs": [
    {
     "data": {
      "text/plain": [
       "Index(['adult', 'budget', 'genres', 'id', 'imdb_id', 'original_language',\n",
       "       'original_title', 'overview', 'popularity', 'poster_path',\n",
       "       'production_companies', 'production_countries', 'release_date',\n",
       "       'revenue', 'runtime', 'spoken_languages', 'status', 'title', 'video',\n",
       "       'vote_average', 'vote_count'],\n",
       "      dtype='object')"
      ]
     },
     "execution_count": 153,
     "metadata": {},
     "output_type": "execute_result"
    }
   ],
   "source": [
    "# Keeping columns with null values less than 10% only\n",
    "drop_list = movies_null[movies_null['Percent']>10].index.tolist()\n",
    "df_movies.drop(drop_list, axis = 1, inplace = True)\n",
    "df_movies.columns"
   ]
  },
  {
   "cell_type": "code",
   "execution_count": 154,
   "metadata": {},
   "outputs": [
    {
     "data": {
      "text/plain": [
       "adult                    object\n",
       "budget                   object\n",
       "genres                   object\n",
       "id                       object\n",
       "imdb_id                  object\n",
       "original_language        object\n",
       "original_title           object\n",
       "overview                 object\n",
       "popularity               object\n",
       "poster_path              object\n",
       "production_companies     object\n",
       "production_countries     object\n",
       "release_date             object\n",
       "revenue                 float64\n",
       "runtime                 float64\n",
       "spoken_languages         object\n",
       "status                   object\n",
       "title                    object\n",
       "video                    object\n",
       "vote_average            float64\n",
       "vote_count              float64\n",
       "dtype: object"
      ]
     },
     "execution_count": 154,
     "metadata": {},
     "output_type": "execute_result"
    }
   ],
   "source": [
    "df_movies.dtypes"
   ]
  },
  {
   "cell_type": "code",
   "execution_count": 155,
   "metadata": {},
   "outputs": [
    {
     "data": {
      "text/plain": [
       "False                                                                                                                             45454\n",
       "True                                                                                                                                  9\n",
       " Avalanche Sharks tells the story of a bikini contest that turns into a horrifying affair when it is hit by a shark avalanche.        1\n",
       " - Written by Ørnås                                                                                                                   1\n",
       " Rune Balot goes to a casino connected to the October corporation to try to wrap up her case once and for all.                        1\n",
       "Name: adult, dtype: int64"
      ]
     },
     "execution_count": 155,
     "metadata": {},
     "output_type": "execute_result"
    }
   ],
   "source": [
    "df_movies.adult.value_counts()"
   ]
  },
  {
   "cell_type": "code",
   "execution_count": 156,
   "metadata": {},
   "outputs": [],
   "source": [
    "# Keeping rows where adult column is false and dropping adult column\n",
    "df_movies = df_movies[df_movies.adult == 'False'].drop('adult', axis = 'columns')"
   ]
  },
  {
   "cell_type": "code",
   "execution_count": 157,
   "metadata": {},
   "outputs": [
    {
     "data": {
      "text/plain": [
       "False    45358\n",
       "True        93\n",
       "Name: video, dtype: int64"
      ]
     },
     "execution_count": 157,
     "metadata": {},
     "output_type": "execute_result"
    }
   ],
   "source": [
    "df_movies.video.value_counts()"
   ]
  },
  {
   "cell_type": "code",
   "execution_count": 158,
   "metadata": {},
   "outputs": [
    {
     "data": {
      "text/plain": [
       "False    45454\n",
       "Name: video, dtype: int64"
      ]
     },
     "execution_count": 158,
     "metadata": {},
     "output_type": "execute_result"
    }
   ],
   "source": [
    "# Keeping rows with video is false\n",
    "df_movies.video = df_movies.video == 'True'\n",
    "df_movies.video.value_counts()"
   ]
  },
  {
   "cell_type": "code",
   "execution_count": 159,
   "metadata": {},
   "outputs": [],
   "source": [
    "# Converting columns to numeric types\n",
    "df_movies.budget = df_movies.budget.astype(int)\n",
    "df_movies.id = pd.to_numeric(df_movies.id, errors = 'raise')\n",
    "df_movies.popularity = pd.to_numeric(df_movies.popularity, errors = 'raise')"
   ]
  },
  {
   "cell_type": "code",
   "execution_count": 160,
   "metadata": {},
   "outputs": [],
   "source": [
    "# Converting column to datetime datatype\n",
    "df_movies['release_date'] = pd.to_datetime(df_movies['release_date'])"
   ]
  },
  {
   "cell_type": "code",
   "execution_count": 161,
   "metadata": {},
   "outputs": [
    {
     "name": "stdout",
     "output_type": "stream",
     "text": [
      "<class 'pandas.core.frame.DataFrame'>\n",
      "Int64Index: 45454 entries, 0 to 45465\n",
      "Data columns (total 20 columns):\n",
      " #   Column                Non-Null Count  Dtype         \n",
      "---  ------                --------------  -----         \n",
      " 0   budget                45454 non-null  int32         \n",
      " 1   genres                45454 non-null  object        \n",
      " 2   id                    45454 non-null  int64         \n",
      " 3   imdb_id               45437 non-null  object        \n",
      " 4   original_language     45443 non-null  object        \n",
      " 5   original_title        45454 non-null  object        \n",
      " 6   overview              44500 non-null  object        \n",
      " 7   popularity            45451 non-null  float64       \n",
      " 8   poster_path           45068 non-null  object        \n",
      " 9   production_companies  45451 non-null  object        \n",
      " 10  production_countries  45451 non-null  object        \n",
      " 11  release_date          45368 non-null  datetime64[ns]\n",
      " 12  revenue               45451 non-null  float64       \n",
      " 13  runtime               45194 non-null  float64       \n",
      " 14  spoken_languages      45451 non-null  object        \n",
      " 15  status                45370 non-null  object        \n",
      " 16  title                 45451 non-null  object        \n",
      " 17  video                 45454 non-null  bool          \n",
      " 18  vote_average          45451 non-null  float64       \n",
      " 19  vote_count            45451 non-null  float64       \n",
      "dtypes: bool(1), datetime64[ns](1), float64(5), int32(1), int64(1), object(11)\n",
      "memory usage: 6.8+ MB\n"
     ]
    }
   ],
   "source": [
    "df_movies.info()"
   ]
  },
  {
   "cell_type": "code",
   "execution_count": 162,
   "metadata": {},
   "outputs": [
    {
     "data": {
      "text/plain": [
       "{'url': 'https://en.wikipedia.org/wiki/The_Adventures_of_Ford_Fairlane',\n",
       " 'year': 1990,\n",
       " 'imdb_link': 'https://www.imdb.com/title/tt0098987/',\n",
       " 'title': 'The Adventures of Ford Fairlane',\n",
       " 'Directed by': 'Renny Harlin',\n",
       " 'Produced by': ['Steve Perry', 'Joel Silver'],\n",
       " 'Screenplay by': ['David Arnott', 'James Cappe', 'Daniel Waters'],\n",
       " 'Story by': ['David Arnott', 'James Cappe'],\n",
       " 'Based on': ['Characters', 'by Rex Weiner'],\n",
       " 'Starring': ['Andrew Dice Clay',\n",
       "  'Wayne Newton',\n",
       "  'Priscilla Presley',\n",
       "  'Lauren Holly',\n",
       "  'Morris Day',\n",
       "  'Robert Englund',\n",
       "  \"Ed O'Neill\"],\n",
       " 'Narrated by': 'Andrew \"Dice\" Clay',\n",
       " 'Music by': ['Cliff Eidelman', 'Yello'],\n",
       " 'Cinematography': 'Oliver Wood',\n",
       " 'Edited by': 'Michael Tronick',\n",
       " 'Productioncompany ': 'Silver Pictures',\n",
       " 'Distributed by': '20th Century Fox',\n",
       " 'Release date': ['July 11, 1990', '(', '1990-07-11', ')'],\n",
       " 'Running time': '102 minutes',\n",
       " 'Country': 'United States',\n",
       " 'Language': 'English',\n",
       " 'Budget': '$20 million',\n",
       " 'Box office': '$21.4 million'}"
      ]
     },
     "execution_count": 162,
     "metadata": {},
     "output_type": "execute_result"
    }
   ],
   "source": [
    "movies_wiki_raw[0]"
   ]
  },
  {
   "cell_type": "code",
   "execution_count": 163,
   "metadata": {},
   "outputs": [],
   "source": [
    "\n",
    "def clean_movie(movie):\n",
    "    \"\"\"This function will take the each movie will combine alternate titles and change column names.\"\"\"\n",
    "    movie = dict(movie)\n",
    "    alt_titles = {}\n",
    "#     Combine alternate titles into one list alt_titles    \n",
    "    for key in ['Also known as','Arabic','Cantonese','Chinese','French',\n",
    "                    'Hangul','Hebrew','Hepburn','Japanese','Literally',\n",
    "                    'Mandarin','McCune-Reischauer','Original title','Polish',\n",
    "                    'Revised Romanization','Romanized','Russian',\n",
    "                    'Simplified','Traditional','Yiddish']:\n",
    "        if key in movie:\n",
    "            alt_titles[key] = movie[key]\n",
    "            movie.pop(key)\n",
    "    if len(alt_titles) > 0:\n",
    "        movie['alt_titles'] = alt_titles\n",
    "\n",
    "    def change_column_name(old_name, new_name):\n",
    "        \"\"\"This function will replace the values of old name in new name and pop the old name from list\"\"\"\n",
    "        if old_name in movie:\n",
    "            movie[new_name] = movie.pop(old_name)\n",
    "\n",
    "    change_column_name('Adaptation by', 'Writer(s)')\n",
    "    change_column_name('Country of origin', 'Country')\n",
    "    change_column_name('Directed by', 'Director')\n",
    "    change_column_name('Distributed by', 'Distributor')\n",
    "    change_column_name('Edited by', 'Editor(s)')\n",
    "    change_column_name('Length', 'Running time')\n",
    "    change_column_name('Original release', 'Release date')\n",
    "    change_column_name('Music by', 'Composer(s)')\n",
    "    change_column_name('Produced by', 'Producer(s)')\n",
    "    change_column_name('Producer', 'Producer(s)')\n",
    "    change_column_name('Productioncompanies ', 'Production company(s)')\n",
    "    change_column_name('Productioncompany ', 'Production company(s)')\n",
    "    change_column_name('Released', 'Release Date')\n",
    "    change_column_name('Release Date', 'Release date')\n",
    "    change_column_name('Screen story by', 'Writer(s)')\n",
    "    change_column_name('Screenplay by', 'Writer(s)')\n",
    "    change_column_name('Story by', 'Writer(s)')\n",
    "    change_column_name('Theme music composer', 'Composer(s)')\n",
    "    change_column_name('Written by', 'Writer(s)')\n",
    "\n",
    "    return movie"
   ]
  },
  {
   "cell_type": "code",
   "execution_count": 164,
   "metadata": {},
   "outputs": [],
   "source": [
    "\n",
    "def clean_movies_json(movies_wiki_json):\n",
    "    # Using list comprehension to filter out Tv shows from Movies\n",
    "    movies_wiki = [movie for movie in movies_wiki_raw\n",
    "                   if ('Director' in movie or 'Directed by') in movie \n",
    "                   and 'imdb_link' in movie   \n",
    "                   and 'No. of episodes' not in movie]\n",
    "    \n",
    "    # Using a list comprehension to clean each movie with function clean_movie\n",
    "    clean_movies = [clean_movie(movie) for movie in movies_wiki]\n",
    "    \n",
    "    movies_wiki_df = pd.DataFrame(clean_movies)\n",
    "    \n",
    "    # Using regexp to extract id from link and drop duplicate rows from id\n",
    "    movies_wiki_df['imdb_id'] = movies_wiki_df['imdb_link'].str.extract(r'(tt\\d{7})')\n",
    "    movies_wiki_df.drop_duplicates('imdb_id', inplace = True)\n",
    "    \n",
    "    # Using list comprehension to keep only columns with null values less than 10%\n",
    "    wiki_columns_keeping = [column for column in movies_wiki_df.columns \n",
    "                            if movies_wiki_df[column].isnull().sum() < len(movies_wiki_df) * 0.9]\n",
    "    movies_wiki_df = movies_wiki_df[wiki_columns_keeping]\n",
    "    \n",
    "    box_office = movies_wiki_df['Box office'].dropna()\n",
    "    \n",
    "    # Convert box_office to string values using lambda function\n",
    "    box_office = box_office.apply(lambda x: ' '.join(x) if type(x) ==  list else x)\n",
    "    \n",
    "    # Using regular expressions to match two types of patterns in box office data\n",
    "    type_one = r'\\$\\d+\\.?\\d*\\s*[mb]illion'\n",
    "    type_two = r'\\$\\d{1,3}(?:,\\d{3})+'\n",
    "    \n",
    "    def parse_dollars(s):\n",
    "        \"\"\" This function will parse the box_office column using regular expressions.\"\"\"\n",
    "        if type(s) != str:\n",
    "            return np.nan\n",
    "        # Matches only the input of type $###.# million\n",
    "        if re.match(r'\\$\\s*\\d+\\.?\\d*\\s*milli?on', s, flags=re.IGNORECASE):\n",
    "            s = re.sub('\\$|\\s|[a-zA-Z]', '', s)  # Removes the $ sign and ' million'\n",
    "            value = float(s) * 10 ** 6  # Convert string to float and multiply by a million\n",
    "            return value\n",
    "        # Matches only the input of type $###.# billion\n",
    "        elif re.match(r'\\$\\s*\\d+\\.?\\d*\\s*billi?on', s, flags=re.IGNORECASE):\n",
    "            s = re.sub('\\$|\\s|[a-zA-Z]', '', s)  # Removes the $ sign and ' billion'\n",
    "            value = float(s) * 10 ** 9  # Convert string to float and multiply by a billion\n",
    "            return value\n",
    "        # Matches only the input of type $###.# billion\n",
    "        elif re.match(r'\\$\\s*\\d{1,3}(?:[,\\.]\\d{3})+(?!\\s[mb]illion)', s, flags=re.IGNORECASE):\n",
    "            s = re.sub('\\$|,', '', s)  # Removes $ dollar sign and commas\n",
    "            value = float(s)  # Convert string to float\n",
    "            return value\n",
    "        else:\n",
    "            return np.nan\n",
    "    # Cleaning the box_office column using the parse_dollar function\n",
    "    movies_wiki_df['box_office'] = box_office.str.extract(f'({type_one}|{type_two})', flags=re.IGNORECASE)[0].apply(parse_dollars)\n",
    "    movies_wiki_df.drop(\"Box office\", axis=1, inplace = True)\n",
    "    \n",
    "    # Cleaning the release_date column using regular expressions\n",
    "    release_date = movies_wiki_df['Release date'].dropna()\n",
    "    release_date = release_date.apply(lambda x: ' '.join(x) if type(x) == list else x)\n",
    "    date_type_one = r'(?:January|February|March|April|May|June|July|August|September|October|November|December)\\s[123]\\d,\\s\\d{4}'\n",
    "    date_type_two = r'\\d{4}.[01]\\d.[123]\\d'\n",
    "    date_type_three = r'(?:January|February|March|April|May|June|July|August|September|October|November|December)\\s\\d{4}'\n",
    "    date_type_four = r'\\d{4}'\n",
    "    movies_wiki_df['release_date'] = pd.to_datetime(release_date.str.extract(f'({date_type_one}|{date_type_two}|{date_type_three}|{date_type_four})')[0], infer_datetime_format=True)\n",
    "    movies_wiki_df.drop('Release date', axis=1, inplace= True)\n",
    "    \n",
    "    # Cleaning the budget column using regular expressions and parse_dollars funtion with patterns used in box_office cleaning\n",
    "    budget = movies_wiki_df['Budget'].dropna()\n",
    "    budget = budget.apply(lambda x: ' '.join(x) if type(x) == list else x)\n",
    "    budget = budget.str.replace(r'\\$.*[-—–](?![a-z])', '$', regex=True)\n",
    "    movies_wiki_df['budget'] = budget.str.extract(f'({type_one}|{type_two})', flags=re.IGNORECASE)[0].apply(parse_dollars)\n",
    "    movies_wiki_df.drop('Budget', axis=1, inplace=True)\n",
    "    \n",
    "    # Cleaning running time column using regular expresssions\n",
    "    running_time = movies_wiki_df['Running time'].dropna()\n",
    "    running_time = running_time.apply(lambda x: ' '.join(x) if type(x) == list else x)\n",
    "    running_time_extract = running_time.str.extract(r'(\\d+)\\s*ho?u?r?s?\\s*(\\d*)|(\\d+)|s*m')\n",
    "    running_time_extract = running_time_extract.apply(lambda x: pd.to_numeric(x, errors='coerce')).fillna(0)\n",
    "    movies_wiki_df['running_time'] = running_time_extract.apply(lambda x: x[0]*60 + x[1] if x[2] == 0 else x[2], axis=1)\n",
    "    movies_wiki_df.drop('Running time', axis=1, inplace = True)\n",
    "    \n",
    "    return movies_wiki_df"
   ]
  },
  {
   "cell_type": "code",
   "execution_count": 165,
   "metadata": {},
   "outputs": [],
   "source": [
    "movies_wiki_df = clean_movies_json(movies_wiki_raw)"
   ]
  },
  {
   "cell_type": "code",
   "execution_count": 166,
   "metadata": {},
   "outputs": [
    {
     "data": {
      "text/plain": [
       "Index(['url', 'year', 'imdb_link', 'title', 'Based on', 'Starring',\n",
       "       'Cinematography', 'Country', 'Language', 'Director', 'Distributor',\n",
       "       'Editor(s)', 'Composer(s)', 'Producer(s)', 'Production company(s)',\n",
       "       'Writer(s)', 'imdb_id', 'box_office', 'release_date', 'budget',\n",
       "       'running_time'],\n",
       "      dtype='object')"
      ]
     },
     "execution_count": 166,
     "metadata": {},
     "output_type": "execute_result"
    }
   ],
   "source": [
    "movies_wiki_df.columns"
   ]
  },
  {
   "cell_type": "markdown",
   "metadata": {},
   "source": [
    "# 3. Load"
   ]
  },
  {
   "cell_type": "code",
   "execution_count": null,
   "metadata": {},
   "outputs": [],
   "source": []
  }
 ],
 "metadata": {
  "kernelspec": {
   "display_name": "Python 3",
   "language": "python",
   "name": "python3"
  },
  "language_info": {
   "codemirror_mode": {
    "name": "ipython",
    "version": 3
   },
   "file_extension": ".py",
   "mimetype": "text/x-python",
   "name": "python",
   "nbconvert_exporter": "python",
   "pygments_lexer": "ipython3",
   "version": "3.8.3"
  }
 },
 "nbformat": 4,
 "nbformat_minor": 4
}
